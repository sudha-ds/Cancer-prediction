{
 "cells": [
  {
   "cell_type": "code",
   "execution_count": 1,
   "metadata": {},
   "outputs": [],
   "source": [
    "import numpy as np\n",
    "import pandas as pd\n",
    "import matplotlib.pyplot as plt"
   ]
  },
  {
   "cell_type": "code",
   "execution_count": 2,
   "metadata": {},
   "outputs": [],
   "source": [
    "df=pd.read_csv(\"breast_cancer.csv\")"
   ]
  },
  {
   "cell_type": "code",
   "execution_count": 3,
   "metadata": {},
   "outputs": [
    {
     "data": {
      "text/plain": [
       "(569, 33)"
      ]
     },
     "execution_count": 3,
     "metadata": {},
     "output_type": "execute_result"
    }
   ],
   "source": [
    "df.shape"
   ]
  },
  {
   "cell_type": "code",
   "execution_count": 4,
   "metadata": {},
   "outputs": [
    {
     "data": {
      "text/html": [
       "<div>\n",
       "<style scoped>\n",
       "    .dataframe tbody tr th:only-of-type {\n",
       "        vertical-align: middle;\n",
       "    }\n",
       "\n",
       "    .dataframe tbody tr th {\n",
       "        vertical-align: top;\n",
       "    }\n",
       "\n",
       "    .dataframe thead th {\n",
       "        text-align: right;\n",
       "    }\n",
       "</style>\n",
       "<table border=\"1\" class=\"dataframe\">\n",
       "  <thead>\n",
       "    <tr style=\"text-align: right;\">\n",
       "      <th></th>\n",
       "      <th>id</th>\n",
       "      <th>radius_mean</th>\n",
       "      <th>texture_mean</th>\n",
       "      <th>perimeter_mean</th>\n",
       "      <th>area_mean</th>\n",
       "      <th>smoothness_mean</th>\n",
       "      <th>compactness_mean</th>\n",
       "      <th>concavity_mean</th>\n",
       "      <th>concave points_mean</th>\n",
       "      <th>symmetry_mean</th>\n",
       "      <th>...</th>\n",
       "      <th>texture_worst</th>\n",
       "      <th>perimeter_worst</th>\n",
       "      <th>area_worst</th>\n",
       "      <th>smoothness_worst</th>\n",
       "      <th>compactness_worst</th>\n",
       "      <th>concavity_worst</th>\n",
       "      <th>concave points_worst</th>\n",
       "      <th>symmetry_worst</th>\n",
       "      <th>fractal_dimension_worst</th>\n",
       "      <th>Unnamed: 32</th>\n",
       "    </tr>\n",
       "  </thead>\n",
       "  <tbody>\n",
       "    <tr>\n",
       "      <td>count</td>\n",
       "      <td>5.690000e+02</td>\n",
       "      <td>569.000000</td>\n",
       "      <td>569.000000</td>\n",
       "      <td>569.000000</td>\n",
       "      <td>569.000000</td>\n",
       "      <td>569.000000</td>\n",
       "      <td>569.000000</td>\n",
       "      <td>569.000000</td>\n",
       "      <td>569.000000</td>\n",
       "      <td>569.000000</td>\n",
       "      <td>...</td>\n",
       "      <td>569.000000</td>\n",
       "      <td>569.000000</td>\n",
       "      <td>569.000000</td>\n",
       "      <td>569.000000</td>\n",
       "      <td>569.000000</td>\n",
       "      <td>569.000000</td>\n",
       "      <td>569.000000</td>\n",
       "      <td>569.000000</td>\n",
       "      <td>569.000000</td>\n",
       "      <td>0.0</td>\n",
       "    </tr>\n",
       "    <tr>\n",
       "      <td>mean</td>\n",
       "      <td>3.037183e+07</td>\n",
       "      <td>14.127292</td>\n",
       "      <td>19.289649</td>\n",
       "      <td>91.969033</td>\n",
       "      <td>654.889104</td>\n",
       "      <td>0.096360</td>\n",
       "      <td>0.104341</td>\n",
       "      <td>0.088799</td>\n",
       "      <td>0.048919</td>\n",
       "      <td>0.181162</td>\n",
       "      <td>...</td>\n",
       "      <td>25.677223</td>\n",
       "      <td>107.261213</td>\n",
       "      <td>880.583128</td>\n",
       "      <td>0.132369</td>\n",
       "      <td>0.254265</td>\n",
       "      <td>0.272188</td>\n",
       "      <td>0.114606</td>\n",
       "      <td>0.290076</td>\n",
       "      <td>0.083946</td>\n",
       "      <td>NaN</td>\n",
       "    </tr>\n",
       "    <tr>\n",
       "      <td>std</td>\n",
       "      <td>1.250206e+08</td>\n",
       "      <td>3.524049</td>\n",
       "      <td>4.301036</td>\n",
       "      <td>24.298981</td>\n",
       "      <td>351.914129</td>\n",
       "      <td>0.014064</td>\n",
       "      <td>0.052813</td>\n",
       "      <td>0.079720</td>\n",
       "      <td>0.038803</td>\n",
       "      <td>0.027414</td>\n",
       "      <td>...</td>\n",
       "      <td>6.146258</td>\n",
       "      <td>33.602542</td>\n",
       "      <td>569.356993</td>\n",
       "      <td>0.022832</td>\n",
       "      <td>0.157336</td>\n",
       "      <td>0.208624</td>\n",
       "      <td>0.065732</td>\n",
       "      <td>0.061867</td>\n",
       "      <td>0.018061</td>\n",
       "      <td>NaN</td>\n",
       "    </tr>\n",
       "    <tr>\n",
       "      <td>min</td>\n",
       "      <td>8.670000e+03</td>\n",
       "      <td>6.981000</td>\n",
       "      <td>9.710000</td>\n",
       "      <td>43.790000</td>\n",
       "      <td>143.500000</td>\n",
       "      <td>0.052630</td>\n",
       "      <td>0.019380</td>\n",
       "      <td>0.000000</td>\n",
       "      <td>0.000000</td>\n",
       "      <td>0.106000</td>\n",
       "      <td>...</td>\n",
       "      <td>12.020000</td>\n",
       "      <td>50.410000</td>\n",
       "      <td>185.200000</td>\n",
       "      <td>0.071170</td>\n",
       "      <td>0.027290</td>\n",
       "      <td>0.000000</td>\n",
       "      <td>0.000000</td>\n",
       "      <td>0.156500</td>\n",
       "      <td>0.055040</td>\n",
       "      <td>NaN</td>\n",
       "    </tr>\n",
       "    <tr>\n",
       "      <td>25%</td>\n",
       "      <td>8.692180e+05</td>\n",
       "      <td>11.700000</td>\n",
       "      <td>16.170000</td>\n",
       "      <td>75.170000</td>\n",
       "      <td>420.300000</td>\n",
       "      <td>0.086370</td>\n",
       "      <td>0.064920</td>\n",
       "      <td>0.029560</td>\n",
       "      <td>0.020310</td>\n",
       "      <td>0.161900</td>\n",
       "      <td>...</td>\n",
       "      <td>21.080000</td>\n",
       "      <td>84.110000</td>\n",
       "      <td>515.300000</td>\n",
       "      <td>0.116600</td>\n",
       "      <td>0.147200</td>\n",
       "      <td>0.114500</td>\n",
       "      <td>0.064930</td>\n",
       "      <td>0.250400</td>\n",
       "      <td>0.071460</td>\n",
       "      <td>NaN</td>\n",
       "    </tr>\n",
       "    <tr>\n",
       "      <td>50%</td>\n",
       "      <td>9.060240e+05</td>\n",
       "      <td>13.370000</td>\n",
       "      <td>18.840000</td>\n",
       "      <td>86.240000</td>\n",
       "      <td>551.100000</td>\n",
       "      <td>0.095870</td>\n",
       "      <td>0.092630</td>\n",
       "      <td>0.061540</td>\n",
       "      <td>0.033500</td>\n",
       "      <td>0.179200</td>\n",
       "      <td>...</td>\n",
       "      <td>25.410000</td>\n",
       "      <td>97.660000</td>\n",
       "      <td>686.500000</td>\n",
       "      <td>0.131300</td>\n",
       "      <td>0.211900</td>\n",
       "      <td>0.226700</td>\n",
       "      <td>0.099930</td>\n",
       "      <td>0.282200</td>\n",
       "      <td>0.080040</td>\n",
       "      <td>NaN</td>\n",
       "    </tr>\n",
       "    <tr>\n",
       "      <td>75%</td>\n",
       "      <td>8.813129e+06</td>\n",
       "      <td>15.780000</td>\n",
       "      <td>21.800000</td>\n",
       "      <td>104.100000</td>\n",
       "      <td>782.700000</td>\n",
       "      <td>0.105300</td>\n",
       "      <td>0.130400</td>\n",
       "      <td>0.130700</td>\n",
       "      <td>0.074000</td>\n",
       "      <td>0.195700</td>\n",
       "      <td>...</td>\n",
       "      <td>29.720000</td>\n",
       "      <td>125.400000</td>\n",
       "      <td>1084.000000</td>\n",
       "      <td>0.146000</td>\n",
       "      <td>0.339100</td>\n",
       "      <td>0.382900</td>\n",
       "      <td>0.161400</td>\n",
       "      <td>0.317900</td>\n",
       "      <td>0.092080</td>\n",
       "      <td>NaN</td>\n",
       "    </tr>\n",
       "    <tr>\n",
       "      <td>max</td>\n",
       "      <td>9.113205e+08</td>\n",
       "      <td>28.110000</td>\n",
       "      <td>39.280000</td>\n",
       "      <td>188.500000</td>\n",
       "      <td>2501.000000</td>\n",
       "      <td>0.163400</td>\n",
       "      <td>0.345400</td>\n",
       "      <td>0.426800</td>\n",
       "      <td>0.201200</td>\n",
       "      <td>0.304000</td>\n",
       "      <td>...</td>\n",
       "      <td>49.540000</td>\n",
       "      <td>251.200000</td>\n",
       "      <td>4254.000000</td>\n",
       "      <td>0.222600</td>\n",
       "      <td>1.058000</td>\n",
       "      <td>1.252000</td>\n",
       "      <td>0.291000</td>\n",
       "      <td>0.663800</td>\n",
       "      <td>0.207500</td>\n",
       "      <td>NaN</td>\n",
       "    </tr>\n",
       "  </tbody>\n",
       "</table>\n",
       "<p>8 rows × 32 columns</p>\n",
       "</div>"
      ],
      "text/plain": [
       "                 id  radius_mean  texture_mean  perimeter_mean    area_mean  \\\n",
       "count  5.690000e+02   569.000000    569.000000      569.000000   569.000000   \n",
       "mean   3.037183e+07    14.127292     19.289649       91.969033   654.889104   \n",
       "std    1.250206e+08     3.524049      4.301036       24.298981   351.914129   \n",
       "min    8.670000e+03     6.981000      9.710000       43.790000   143.500000   \n",
       "25%    8.692180e+05    11.700000     16.170000       75.170000   420.300000   \n",
       "50%    9.060240e+05    13.370000     18.840000       86.240000   551.100000   \n",
       "75%    8.813129e+06    15.780000     21.800000      104.100000   782.700000   \n",
       "max    9.113205e+08    28.110000     39.280000      188.500000  2501.000000   \n",
       "\n",
       "       smoothness_mean  compactness_mean  concavity_mean  concave points_mean  \\\n",
       "count       569.000000        569.000000      569.000000           569.000000   \n",
       "mean          0.096360          0.104341        0.088799             0.048919   \n",
       "std           0.014064          0.052813        0.079720             0.038803   \n",
       "min           0.052630          0.019380        0.000000             0.000000   \n",
       "25%           0.086370          0.064920        0.029560             0.020310   \n",
       "50%           0.095870          0.092630        0.061540             0.033500   \n",
       "75%           0.105300          0.130400        0.130700             0.074000   \n",
       "max           0.163400          0.345400        0.426800             0.201200   \n",
       "\n",
       "       symmetry_mean  ...  texture_worst  perimeter_worst   area_worst  \\\n",
       "count     569.000000  ...     569.000000       569.000000   569.000000   \n",
       "mean        0.181162  ...      25.677223       107.261213   880.583128   \n",
       "std         0.027414  ...       6.146258        33.602542   569.356993   \n",
       "min         0.106000  ...      12.020000        50.410000   185.200000   \n",
       "25%         0.161900  ...      21.080000        84.110000   515.300000   \n",
       "50%         0.179200  ...      25.410000        97.660000   686.500000   \n",
       "75%         0.195700  ...      29.720000       125.400000  1084.000000   \n",
       "max         0.304000  ...      49.540000       251.200000  4254.000000   \n",
       "\n",
       "       smoothness_worst  compactness_worst  concavity_worst  \\\n",
       "count        569.000000         569.000000       569.000000   \n",
       "mean           0.132369           0.254265         0.272188   \n",
       "std            0.022832           0.157336         0.208624   \n",
       "min            0.071170           0.027290         0.000000   \n",
       "25%            0.116600           0.147200         0.114500   \n",
       "50%            0.131300           0.211900         0.226700   \n",
       "75%            0.146000           0.339100         0.382900   \n",
       "max            0.222600           1.058000         1.252000   \n",
       "\n",
       "       concave points_worst  symmetry_worst  fractal_dimension_worst  \\\n",
       "count            569.000000      569.000000               569.000000   \n",
       "mean               0.114606        0.290076                 0.083946   \n",
       "std                0.065732        0.061867                 0.018061   \n",
       "min                0.000000        0.156500                 0.055040   \n",
       "25%                0.064930        0.250400                 0.071460   \n",
       "50%                0.099930        0.282200                 0.080040   \n",
       "75%                0.161400        0.317900                 0.092080   \n",
       "max                0.291000        0.663800                 0.207500   \n",
       "\n",
       "       Unnamed: 32  \n",
       "count          0.0  \n",
       "mean           NaN  \n",
       "std            NaN  \n",
       "min            NaN  \n",
       "25%            NaN  \n",
       "50%            NaN  \n",
       "75%            NaN  \n",
       "max            NaN  \n",
       "\n",
       "[8 rows x 32 columns]"
      ]
     },
     "execution_count": 4,
     "metadata": {},
     "output_type": "execute_result"
    }
   ],
   "source": [
    "df.describe()"
   ]
  },
  {
   "cell_type": "code",
   "execution_count": 5,
   "metadata": {},
   "outputs": [
    {
     "data": {
      "text/html": [
       "<div>\n",
       "<style scoped>\n",
       "    .dataframe tbody tr th:only-of-type {\n",
       "        vertical-align: middle;\n",
       "    }\n",
       "\n",
       "    .dataframe tbody tr th {\n",
       "        vertical-align: top;\n",
       "    }\n",
       "\n",
       "    .dataframe thead th {\n",
       "        text-align: right;\n",
       "    }\n",
       "</style>\n",
       "<table border=\"1\" class=\"dataframe\">\n",
       "  <thead>\n",
       "    <tr style=\"text-align: right;\">\n",
       "      <th></th>\n",
       "      <th>id</th>\n",
       "      <th>diagnosis</th>\n",
       "      <th>radius_mean</th>\n",
       "      <th>texture_mean</th>\n",
       "      <th>perimeter_mean</th>\n",
       "      <th>area_mean</th>\n",
       "      <th>smoothness_mean</th>\n",
       "      <th>compactness_mean</th>\n",
       "      <th>concavity_mean</th>\n",
       "      <th>concave points_mean</th>\n",
       "      <th>...</th>\n",
       "      <th>texture_worst</th>\n",
       "      <th>perimeter_worst</th>\n",
       "      <th>area_worst</th>\n",
       "      <th>smoothness_worst</th>\n",
       "      <th>compactness_worst</th>\n",
       "      <th>concavity_worst</th>\n",
       "      <th>concave points_worst</th>\n",
       "      <th>symmetry_worst</th>\n",
       "      <th>fractal_dimension_worst</th>\n",
       "      <th>Unnamed: 32</th>\n",
       "    </tr>\n",
       "  </thead>\n",
       "  <tbody>\n",
       "    <tr>\n",
       "      <td>0</td>\n",
       "      <td>842302</td>\n",
       "      <td>M</td>\n",
       "      <td>17.99</td>\n",
       "      <td>10.38</td>\n",
       "      <td>122.80</td>\n",
       "      <td>1001.0</td>\n",
       "      <td>0.11840</td>\n",
       "      <td>0.27760</td>\n",
       "      <td>0.3001</td>\n",
       "      <td>0.14710</td>\n",
       "      <td>...</td>\n",
       "      <td>17.33</td>\n",
       "      <td>184.60</td>\n",
       "      <td>2019.0</td>\n",
       "      <td>0.1622</td>\n",
       "      <td>0.6656</td>\n",
       "      <td>0.7119</td>\n",
       "      <td>0.2654</td>\n",
       "      <td>0.4601</td>\n",
       "      <td>0.11890</td>\n",
       "      <td>NaN</td>\n",
       "    </tr>\n",
       "    <tr>\n",
       "      <td>1</td>\n",
       "      <td>842517</td>\n",
       "      <td>M</td>\n",
       "      <td>20.57</td>\n",
       "      <td>17.77</td>\n",
       "      <td>132.90</td>\n",
       "      <td>1326.0</td>\n",
       "      <td>0.08474</td>\n",
       "      <td>0.07864</td>\n",
       "      <td>0.0869</td>\n",
       "      <td>0.07017</td>\n",
       "      <td>...</td>\n",
       "      <td>23.41</td>\n",
       "      <td>158.80</td>\n",
       "      <td>1956.0</td>\n",
       "      <td>0.1238</td>\n",
       "      <td>0.1866</td>\n",
       "      <td>0.2416</td>\n",
       "      <td>0.1860</td>\n",
       "      <td>0.2750</td>\n",
       "      <td>0.08902</td>\n",
       "      <td>NaN</td>\n",
       "    </tr>\n",
       "    <tr>\n",
       "      <td>2</td>\n",
       "      <td>84300903</td>\n",
       "      <td>M</td>\n",
       "      <td>19.69</td>\n",
       "      <td>21.25</td>\n",
       "      <td>130.00</td>\n",
       "      <td>1203.0</td>\n",
       "      <td>0.10960</td>\n",
       "      <td>0.15990</td>\n",
       "      <td>0.1974</td>\n",
       "      <td>0.12790</td>\n",
       "      <td>...</td>\n",
       "      <td>25.53</td>\n",
       "      <td>152.50</td>\n",
       "      <td>1709.0</td>\n",
       "      <td>0.1444</td>\n",
       "      <td>0.4245</td>\n",
       "      <td>0.4504</td>\n",
       "      <td>0.2430</td>\n",
       "      <td>0.3613</td>\n",
       "      <td>0.08758</td>\n",
       "      <td>NaN</td>\n",
       "    </tr>\n",
       "    <tr>\n",
       "      <td>3</td>\n",
       "      <td>84348301</td>\n",
       "      <td>M</td>\n",
       "      <td>11.42</td>\n",
       "      <td>20.38</td>\n",
       "      <td>77.58</td>\n",
       "      <td>386.1</td>\n",
       "      <td>0.14250</td>\n",
       "      <td>0.28390</td>\n",
       "      <td>0.2414</td>\n",
       "      <td>0.10520</td>\n",
       "      <td>...</td>\n",
       "      <td>26.50</td>\n",
       "      <td>98.87</td>\n",
       "      <td>567.7</td>\n",
       "      <td>0.2098</td>\n",
       "      <td>0.8663</td>\n",
       "      <td>0.6869</td>\n",
       "      <td>0.2575</td>\n",
       "      <td>0.6638</td>\n",
       "      <td>0.17300</td>\n",
       "      <td>NaN</td>\n",
       "    </tr>\n",
       "    <tr>\n",
       "      <td>4</td>\n",
       "      <td>84358402</td>\n",
       "      <td>M</td>\n",
       "      <td>20.29</td>\n",
       "      <td>14.34</td>\n",
       "      <td>135.10</td>\n",
       "      <td>1297.0</td>\n",
       "      <td>0.10030</td>\n",
       "      <td>0.13280</td>\n",
       "      <td>0.1980</td>\n",
       "      <td>0.10430</td>\n",
       "      <td>...</td>\n",
       "      <td>16.67</td>\n",
       "      <td>152.20</td>\n",
       "      <td>1575.0</td>\n",
       "      <td>0.1374</td>\n",
       "      <td>0.2050</td>\n",
       "      <td>0.4000</td>\n",
       "      <td>0.1625</td>\n",
       "      <td>0.2364</td>\n",
       "      <td>0.07678</td>\n",
       "      <td>NaN</td>\n",
       "    </tr>\n",
       "  </tbody>\n",
       "</table>\n",
       "<p>5 rows × 33 columns</p>\n",
       "</div>"
      ],
      "text/plain": [
       "         id diagnosis  radius_mean  texture_mean  perimeter_mean  area_mean  \\\n",
       "0    842302         M        17.99         10.38          122.80     1001.0   \n",
       "1    842517         M        20.57         17.77          132.90     1326.0   \n",
       "2  84300903         M        19.69         21.25          130.00     1203.0   \n",
       "3  84348301         M        11.42         20.38           77.58      386.1   \n",
       "4  84358402         M        20.29         14.34          135.10     1297.0   \n",
       "\n",
       "   smoothness_mean  compactness_mean  concavity_mean  concave points_mean  \\\n",
       "0          0.11840           0.27760          0.3001              0.14710   \n",
       "1          0.08474           0.07864          0.0869              0.07017   \n",
       "2          0.10960           0.15990          0.1974              0.12790   \n",
       "3          0.14250           0.28390          0.2414              0.10520   \n",
       "4          0.10030           0.13280          0.1980              0.10430   \n",
       "\n",
       "   ...  texture_worst  perimeter_worst  area_worst  smoothness_worst  \\\n",
       "0  ...          17.33           184.60      2019.0            0.1622   \n",
       "1  ...          23.41           158.80      1956.0            0.1238   \n",
       "2  ...          25.53           152.50      1709.0            0.1444   \n",
       "3  ...          26.50            98.87       567.7            0.2098   \n",
       "4  ...          16.67           152.20      1575.0            0.1374   \n",
       "\n",
       "   compactness_worst  concavity_worst  concave points_worst  symmetry_worst  \\\n",
       "0             0.6656           0.7119                0.2654          0.4601   \n",
       "1             0.1866           0.2416                0.1860          0.2750   \n",
       "2             0.4245           0.4504                0.2430          0.3613   \n",
       "3             0.8663           0.6869                0.2575          0.6638   \n",
       "4             0.2050           0.4000                0.1625          0.2364   \n",
       "\n",
       "   fractal_dimension_worst  Unnamed: 32  \n",
       "0                  0.11890          NaN  \n",
       "1                  0.08902          NaN  \n",
       "2                  0.08758          NaN  \n",
       "3                  0.17300          NaN  \n",
       "4                  0.07678          NaN  \n",
       "\n",
       "[5 rows x 33 columns]"
      ]
     },
     "execution_count": 5,
     "metadata": {},
     "output_type": "execute_result"
    }
   ],
   "source": [
    "df.head()"
   ]
  },
  {
   "cell_type": "code",
   "execution_count": 6,
   "metadata": {},
   "outputs": [],
   "source": [
    "fm=df.iloc[:,2:-1]\n",
    "tv=df.diagnosis"
   ]
  },
  {
   "cell_type": "code",
   "execution_count": 7,
   "metadata": {},
   "outputs": [],
   "source": [
    "from sklearn.model_selection import train_test_split"
   ]
  },
  {
   "cell_type": "code",
   "execution_count": 8,
   "metadata": {},
   "outputs": [],
   "source": [
    "fm_train,fm_test,tv_train,tv_test=train_test_split(fm,tv,test_size=0.2)"
   ]
  },
  {
   "cell_type": "code",
   "execution_count": 9,
   "metadata": {},
   "outputs": [
    {
     "name": "stdout",
     "output_type": "stream",
     "text": [
      "(455, 30)\n"
     ]
    }
   ],
   "source": [
    "print(fm_train.shape)"
   ]
  },
  {
   "cell_type": "code",
   "execution_count": 10,
   "metadata": {},
   "outputs": [],
   "source": [
    "from sklearn.linear_model import LogisticRegression"
   ]
  },
  {
   "cell_type": "code",
   "execution_count": 11,
   "metadata": {},
   "outputs": [],
   "source": [
    "model=LogisticRegression()"
   ]
  },
  {
   "cell_type": "code",
   "execution_count": 12,
   "metadata": {},
   "outputs": [
    {
     "data": {
      "text/plain": [
       "LogisticRegression(C=1.0, class_weight=None, dual=False, fit_intercept=True,\n",
       "                   intercept_scaling=1, l1_ratio=None, max_iter=100,\n",
       "                   multi_class='warn', n_jobs=None, penalty='l2',\n",
       "                   random_state=None, solver='warn', tol=0.0001, verbose=0,\n",
       "                   warm_start=False)"
      ]
     },
     "execution_count": 12,
     "metadata": {},
     "output_type": "execute_result"
    }
   ],
   "source": [
    "model"
   ]
  },
  {
   "cell_type": "code",
   "execution_count": 13,
   "metadata": {},
   "outputs": [
    {
     "name": "stderr",
     "output_type": "stream",
     "text": [
      "C:\\Users\\Siddy\\Anaconda3\\lib\\site-packages\\sklearn\\linear_model\\logistic.py:432: FutureWarning: Default solver will be changed to 'lbfgs' in 0.22. Specify a solver to silence this warning.\n",
      "  FutureWarning)\n"
     ]
    },
    {
     "data": {
      "text/plain": [
       "LogisticRegression(C=1.0, class_weight=None, dual=False, fit_intercept=True,\n",
       "                   intercept_scaling=1, l1_ratio=None, max_iter=100,\n",
       "                   multi_class='warn', n_jobs=None, penalty='l2',\n",
       "                   random_state=None, solver='warn', tol=0.0001, verbose=0,\n",
       "                   warm_start=False)"
      ]
     },
     "execution_count": 13,
     "metadata": {},
     "output_type": "execute_result"
    }
   ],
   "source": [
    "model.fit(X=fm_train,y=tv_train)"
   ]
  },
  {
   "cell_type": "code",
   "execution_count": 14,
   "metadata": {},
   "outputs": [
    {
     "data": {
      "text/plain": [
       "0.9538461538461539"
      ]
     },
     "execution_count": 14,
     "metadata": {},
     "output_type": "execute_result"
    }
   ],
   "source": [
    "model.score(fm_train,tv_train)"
   ]
  },
  {
   "cell_type": "code",
   "execution_count": 15,
   "metadata": {},
   "outputs": [
    {
     "data": {
      "text/plain": [
       "0.9473684210526315"
      ]
     },
     "execution_count": 15,
     "metadata": {},
     "output_type": "execute_result"
    }
   ],
   "source": [
    "model.score(fm_test,tv_test)"
   ]
  },
  {
   "cell_type": "code",
   "execution_count": 16,
   "metadata": {},
   "outputs": [
    {
     "data": {
      "text/plain": [
       "B    294\n",
       "M    161\n",
       "Name: diagnosis, dtype: int64"
      ]
     },
     "execution_count": 16,
     "metadata": {},
     "output_type": "execute_result"
    }
   ],
   "source": [
    "tv_train.value_counts()"
   ]
  },
  {
   "cell_type": "code",
   "execution_count": 17,
   "metadata": {},
   "outputs": [],
   "source": [
    "from sklearn.metrics import confusion_matrix,classification_report"
   ]
  },
  {
   "cell_type": "code",
   "execution_count": 18,
   "metadata": {},
   "outputs": [
    {
     "data": {
      "text/plain": [
       "array([[284,  10],\n",
       "       [ 11, 150]], dtype=int64)"
      ]
     },
     "execution_count": 18,
     "metadata": {},
     "output_type": "execute_result"
    }
   ],
   "source": [
    "confusion_matrix(y_true=tv_train,y_pred=model.predict(fm_train))"
   ]
  },
  {
   "cell_type": "code",
   "execution_count": 19,
   "metadata": {},
   "outputs": [
    {
     "data": {
      "text/plain": [
       "array([[63,  0],\n",
       "       [ 6, 45]], dtype=int64)"
      ]
     },
     "execution_count": 19,
     "metadata": {},
     "output_type": "execute_result"
    }
   ],
   "source": [
    "confusion_matrix(y_true=tv_test,y_pred=model.predict(fm_test))"
   ]
  },
  {
   "cell_type": "code",
   "execution_count": 20,
   "metadata": {},
   "outputs": [
    {
     "data": {
      "text/plain": [
       "0.9604395604395605"
      ]
     },
     "execution_count": 20,
     "metadata": {},
     "output_type": "execute_result"
    }
   ],
   "source": [
    "(277+160)/(277+6+12+160)"
   ]
  },
  {
   "cell_type": "code",
   "execution_count": 21,
   "metadata": {},
   "outputs": [
    {
     "data": {
      "text/plain": [
       "0.9298245614035088"
      ]
     },
     "execution_count": 21,
     "metadata": {},
     "output_type": "execute_result"
    }
   ],
   "source": [
    "(69+37)/(69+5+3+37)"
   ]
  },
  {
   "cell_type": "code",
   "execution_count": 22,
   "metadata": {},
   "outputs": [
    {
     "name": "stdout",
     "output_type": "stream",
     "text": [
      "              precision    recall  f1-score   support\n",
      "\n",
      "           B       0.96      0.97      0.96       294\n",
      "           M       0.94      0.93      0.93       161\n",
      "\n",
      "    accuracy                           0.95       455\n",
      "   macro avg       0.95      0.95      0.95       455\n",
      "weighted avg       0.95      0.95      0.95       455\n",
      "\n"
     ]
    }
   ],
   "source": [
    "print(classification_report(y_true=tv_train, y_pred=model.predict(X=fm_train)))"
   ]
  },
  {
   "cell_type": "code",
   "execution_count": 23,
   "metadata": {},
   "outputs": [],
   "source": [
    "np.set_printoptions(suppress=True)"
   ]
  },
  {
   "cell_type": "code",
   "execution_count": 24,
   "metadata": {},
   "outputs": [
    {
     "data": {
      "text/plain": [
       "array(['B', 'B', 'B', 'B', 'B', 'B', 'B', 'B', 'B', 'B', 'B', 'B', 'B',\n",
       "       'B', 'B', 'B', 'B', 'B', 'B', 'B', 'B', 'B', 'M', 'B', 'B', 'B',\n",
       "       'M', 'B', 'B', 'M', 'M', 'M', 'B', 'B', 'M', 'B', 'B', 'M', 'M',\n",
       "       'B', 'M', 'B', 'M', 'B', 'M', 'M', 'B', 'B', 'B', 'B', 'M', 'B',\n",
       "       'B', 'M', 'M', 'B', 'B', 'M', 'B', 'B', 'B', 'B', 'M', 'B', 'M',\n",
       "       'B', 'B', 'M', 'M', 'M', 'B', 'M', 'B', 'M', 'B', 'B', 'M', 'B',\n",
       "       'M', 'M', 'B', 'M', 'B', 'B', 'M', 'B', 'M', 'M', 'B', 'B', 'M',\n",
       "       'B', 'M', 'B', 'B', 'M', 'M', 'B', 'B', 'B', 'B', 'M', 'B', 'M',\n",
       "       'M', 'B', 'B', 'B', 'B', 'B', 'B', 'B', 'B', 'B', 'B', 'M', 'M',\n",
       "       'B', 'B', 'M', 'B', 'B', 'M', 'B', 'M', 'B', 'B', 'B', 'B', 'B',\n",
       "       'B', 'M', 'M', 'M', 'M', 'B', 'M', 'B', 'M', 'B', 'M', 'B', 'B',\n",
       "       'B', 'M', 'M', 'B', 'M', 'B', 'B', 'B', 'B', 'B', 'B', 'B', 'B',\n",
       "       'M', 'M', 'B', 'B', 'M', 'B', 'B', 'M', 'B', 'B', 'B', 'M', 'M',\n",
       "       'B', 'M', 'B', 'B', 'B', 'M', 'M', 'B', 'B', 'M', 'M', 'B', 'M',\n",
       "       'M', 'B', 'B', 'M', 'B', 'B', 'B', 'B', 'M', 'M', 'B', 'M', 'B',\n",
       "       'B', 'B', 'B', 'B', 'M', 'B', 'M', 'B', 'B', 'B', 'B', 'B', 'B',\n",
       "       'B', 'B', 'B', 'B', 'M', 'B', 'B', 'B', 'B', 'B', 'M', 'M', 'B',\n",
       "       'B', 'B', 'B', 'B', 'M', 'M', 'M', 'B', 'M', 'B', 'B', 'B', 'M',\n",
       "       'M', 'B', 'M', 'B', 'M', 'M', 'M', 'B', 'B', 'B', 'B', 'B', 'M',\n",
       "       'M', 'M', 'M', 'B', 'B', 'M', 'B', 'M', 'M', 'M', 'M', 'M', 'M',\n",
       "       'M', 'M', 'M', 'B', 'B', 'B', 'B', 'M', 'B', 'B', 'B', 'B', 'B',\n",
       "       'B', 'M', 'B', 'M', 'M', 'M', 'B', 'B', 'M', 'M', 'M', 'B', 'M',\n",
       "       'B', 'B', 'M', 'M', 'B', 'B', 'B', 'B', 'M', 'M', 'M', 'M', 'B',\n",
       "       'M', 'B', 'M', 'B', 'M', 'B', 'B', 'B', 'M', 'B', 'M', 'M', 'M',\n",
       "       'M', 'B', 'B', 'B', 'M', 'B', 'M', 'M', 'M', 'B', 'B', 'B', 'B',\n",
       "       'M', 'B', 'M', 'M', 'M', 'B', 'M', 'M', 'B', 'B', 'M', 'B', 'M',\n",
       "       'B', 'B', 'B', 'B', 'B', 'B', 'M', 'M', 'M', 'B', 'B', 'B', 'B',\n",
       "       'B', 'M', 'B', 'M', 'B', 'M', 'M', 'B', 'M', 'B', 'M', 'B', 'B',\n",
       "       'B', 'B', 'B', 'B', 'B', 'M', 'B', 'B', 'B', 'M', 'B', 'B', 'B',\n",
       "       'M', 'B', 'B', 'B', 'B', 'M', 'B', 'B', 'B', 'M', 'M', 'B', 'B',\n",
       "       'B', 'M', 'B', 'B', 'M', 'B', 'B', 'B', 'M', 'B', 'M', 'B', 'B',\n",
       "       'B', 'M', 'M', 'B', 'B', 'B', 'B', 'B', 'B', 'B', 'B', 'B', 'B',\n",
       "       'M', 'B', 'B', 'B', 'B', 'B', 'M', 'M', 'M', 'B', 'B', 'B', 'B',\n",
       "       'B', 'B', 'B', 'B', 'B', 'B', 'B', 'B', 'B', 'B', 'B', 'M', 'B',\n",
       "       'B', 'B', 'B', 'B', 'B', 'B', 'M', 'B', 'B', 'B', 'B', 'B', 'B'],\n",
       "      dtype=object)"
      ]
     },
     "execution_count": 24,
     "metadata": {},
     "output_type": "execute_result"
    }
   ],
   "source": [
    "model.predict(X=fm_train)"
   ]
  },
  {
   "cell_type": "code",
   "execution_count": 34,
   "metadata": {},
   "outputs": [],
   "source": [
    "preds = model.predict_proba(X=fm_train)"
   ]
  },
  {
   "cell_type": "code",
   "execution_count": 35,
   "metadata": {},
   "outputs": [
    {
     "data": {
      "text/plain": [
       "(455, 2)"
      ]
     },
     "execution_count": 35,
     "metadata": {},
     "output_type": "execute_result"
    }
   ],
   "source": [
    "preds.shape"
   ]
  },
  {
   "cell_type": "code",
   "execution_count": 36,
   "metadata": {},
   "outputs": [],
   "source": [
    "preds=preds[:,0]"
   ]
  },
  {
   "cell_type": "code",
   "execution_count": 37,
   "metadata": {},
   "outputs": [
    {
     "data": {
      "text/plain": [
       "array([0.99912538, 0.9863877 , 0.95268874, 0.99714804, 0.99959556,\n",
       "       0.99718367, 0.99880046, 0.60398218, 0.99820647, 0.98964648,\n",
       "       0.99963618, 0.95781366, 0.98190839, 0.99847606, 0.99791516,\n",
       "       0.99573314, 0.99865488, 0.99189423, 0.99993711, 0.83255043,\n",
       "       0.9868897 , 0.99916176, 0.00005977, 0.86672819, 0.99695869,\n",
       "       0.99976817, 0.30216218, 0.99594613, 0.99999568, 0.00000137,\n",
       "       0.00241353, 0.37407822, 0.99540508, 0.86254092, 0.00060159,\n",
       "       0.98589583, 0.82223996, 0.        , 0.00000143, 0.98852436,\n",
       "       0.00008585, 0.9887118 , 0.40602933, 0.96673861, 0.45601159,\n",
       "       0.        , 0.99817749, 0.71016944, 0.99882711, 0.98799964,\n",
       "       0.        , 0.94160325, 0.78481539, 0.        , 0.        ,\n",
       "       0.99906005, 0.96650981, 0.00518807, 0.99714724, 0.99843127,\n",
       "       0.9840893 , 0.94574694, 0.        , 0.97446424, 0.        ,\n",
       "       0.9365824 , 0.99698197, 0.        , 0.00000023, 0.00000002,\n",
       "       0.57246479, 0.19687195, 0.99366596, 0.        , 0.99438768,\n",
       "       0.97682416, 0.00000001, 0.86101193, 0.01137322, 0.13984211,\n",
       "       0.98266372, 0.01421189, 0.88457513, 0.99839702, 0.00000196,\n",
       "       0.92475254, 0.14054316, 0.00019836, 0.92477737, 0.98973162,\n",
       "       0.        , 0.93491789, 0.37254213, 0.99942176, 0.96374055,\n",
       "       0.        , 0.44403803, 0.99645872, 0.9649341 , 0.99904265,\n",
       "       0.99876427, 0.25635434, 0.99529519, 0.00033903, 0.        ,\n",
       "       0.99719453, 0.96344092, 0.99951562, 0.9708384 , 0.99623043,\n",
       "       0.99907091, 0.99000427, 0.97762725, 0.9892115 , 0.99096968,\n",
       "       0.00000239, 0.0022306 , 0.99750701, 0.95724913, 0.00000761,\n",
       "       0.99517894, 0.92376171, 0.        , 0.97168948, 0.        ,\n",
       "       0.98822178, 0.98349038, 0.97810488, 0.99977803, 0.99231953,\n",
       "       0.98968274, 0.39927535, 0.        , 0.00000708, 0.00025412,\n",
       "       0.99432482, 0.        , 0.99624611, 0.4599599 , 0.99970693,\n",
       "       0.00000004, 0.99830662, 0.9821437 , 0.99578499, 0.00000022,\n",
       "       0.        , 0.99799654, 0.00892037, 0.99790923, 0.98343964,\n",
       "       0.9994655 , 0.99743466, 0.95235191, 0.8540832 , 0.84797858,\n",
       "       0.99314255, 0.        , 0.04766281, 0.99945847, 0.99890144,\n",
       "       0.00000002, 0.99744189, 0.98203047, 0.00000007, 0.99550107,\n",
       "       0.99970412, 0.99692151, 0.        , 0.47958577, 0.99757004,\n",
       "       0.18348975, 0.99927041, 0.7801385 , 0.98789624, 0.        ,\n",
       "       0.        , 0.9947288 , 0.99637479, 0.00115268, 0.12839952,\n",
       "       0.99806536, 0.00000171, 0.00509272, 0.99521533, 0.99795915,\n",
       "       0.        , 0.98901735, 0.96811774, 0.724717  , 0.99553551,\n",
       "       0.47103603, 0.00000001, 0.99969385, 0.08571496, 0.98702046,\n",
       "       0.96617619, 0.99804527, 0.99658191, 0.90013899, 0.34037383,\n",
       "       0.96214525, 0.        , 0.7041618 , 0.99949457, 0.88628726,\n",
       "       0.97482684, 0.9888297 , 0.98185225, 0.99826883, 0.53265784,\n",
       "       0.63688114, 0.61065935, 0.        , 0.99930493, 0.73597618,\n",
       "       0.91342038, 0.99507729, 0.9950669 , 0.0000008 , 0.00260666,\n",
       "       0.99911012, 0.99341898, 0.99556441, 0.84563851, 0.99786617,\n",
       "       0.00018743, 0.23420707, 0.        , 0.99538879, 0.00000006,\n",
       "       0.99467143, 0.99528649, 0.99468875, 0.        , 0.00000039,\n",
       "       0.99961276, 0.1086158 , 0.73442578, 0.00038103, 0.18428358,\n",
       "       0.        , 0.99831809, 0.99870878, 0.99993798, 0.99528856,\n",
       "       0.99481402, 0.21755689, 0.0000003 , 0.00000001, 0.        ,\n",
       "       0.9310143 , 0.99215526, 0.49618261, 0.99831084, 0.        ,\n",
       "       0.00000451, 0.01465481, 0.00000177, 0.36574197, 0.0000052 ,\n",
       "       0.        , 0.00000023, 0.06913538, 0.94732617, 0.99637496,\n",
       "       0.91667627, 0.98710773, 0.0000088 , 0.99957214, 0.92843368,\n",
       "       0.98220446, 0.91694577, 0.99933536, 0.99301937, 0.00032411,\n",
       "       0.79928445, 0.00197932, 0.18537102, 0.00002279, 0.99973505,\n",
       "       0.95852411, 0.00000148, 0.        , 0.0020258 , 0.99835753,\n",
       "       0.00342689, 0.99541038, 0.98105315, 0.03657924, 0.2140937 ,\n",
       "       0.75814542, 0.99772809, 0.99386051, 0.9966761 , 0.05234608,\n",
       "       0.00066951, 0.00815774, 0.03494026, 0.89368984, 0.216949  ,\n",
       "       0.87485943, 0.        , 0.9617219 , 0.22818364, 0.9981166 ,\n",
       "       0.99579333, 0.99959852, 0.00000738, 0.99834469, 0.01910029,\n",
       "       0.00011562, 0.00125133, 0.00000208, 0.99111811, 0.94153213,\n",
       "       0.99600725, 0.        , 0.99858845, 0.47174805, 0.17230053,\n",
       "       0.        , 0.97084574, 0.99853148, 0.9995132 , 0.93358777,\n",
       "       0.        , 0.98582713, 0.00089623, 0.        , 0.00001165,\n",
       "       0.9419741 , 0.01115475, 0.00004525, 0.99794285, 0.95084912,\n",
       "       0.00000015, 0.99810063, 0.00070063, 0.99923748, 0.9980975 ,\n",
       "       0.99879947, 0.99935028, 0.99939764, 0.99438947, 0.        ,\n",
       "       0.00000388, 0.00031634, 0.99651011, 0.9234216 , 0.99498431,\n",
       "       0.99676948, 0.98799186, 0.00225907, 0.97975454, 0.00000003,\n",
       "       0.99958247, 0.00001398, 0.00000005, 0.99885295, 0.33267414,\n",
       "       0.99093649, 0.00007958, 0.98530078, 0.98375537, 0.99139539,\n",
       "       0.98913501, 0.88908971, 0.99939928, 0.9630852 , 0.1179352 ,\n",
       "       0.98750799, 0.99036262, 0.99649467, 0.00115141, 0.99915673,\n",
       "       0.9999199 , 0.99812053, 0.04569513, 0.98517309, 0.99895398,\n",
       "       0.97155569, 0.99066773, 0.        , 0.99692589, 0.99713546,\n",
       "       0.68309083, 0.        , 0.00000445, 0.99484007, 0.99810079,\n",
       "       0.99986107, 0.00007315, 0.99374412, 0.99926633, 0.00062347,\n",
       "       0.98518233, 0.98035494, 0.8185659 , 0.00002701, 0.99033529,\n",
       "       0.        , 0.99843116, 0.97085472, 0.92619991, 0.01288511,\n",
       "       0.21908625, 0.94774805, 0.96994495, 0.99894409, 0.51484385,\n",
       "       0.99854183, 0.99593877, 0.99372933, 0.99620225, 0.96360142,\n",
       "       0.88692307, 0.00862327, 0.99843451, 0.95974333, 0.9963557 ,\n",
       "       0.85660902, 0.99825215, 0.00000514, 0.0000384 , 0.00977383,\n",
       "       0.88446214, 0.99618236, 0.99681592, 0.99960193, 0.99972926,\n",
       "       0.96292109, 0.99738318, 0.9931247 , 0.99270649, 0.95881343,\n",
       "       0.99223717, 0.9202565 , 0.92780487, 0.99584056, 0.9579019 ,\n",
       "       0.08981761, 0.99965673, 0.99896619, 0.99790762, 0.99946062,\n",
       "       0.99500785, 0.99804963, 0.99516743, 0.00000075, 0.99501267,\n",
       "       0.99959985, 0.82089379, 0.99083839, 0.97861651, 0.99702089])"
      ]
     },
     "execution_count": 37,
     "metadata": {},
     "output_type": "execute_result"
    }
   ],
   "source": [
    "preds"
   ]
  },
  {
   "cell_type": "code",
   "execution_count": 38,
   "metadata": {},
   "outputs": [
    {
     "data": {
      "text/plain": [
       "array([[ 10, 284],\n",
       "       [150,  11]], dtype=int64)"
      ]
     },
     "execution_count": 38,
     "metadata": {},
     "output_type": "execute_result"
    }
   ],
   "source": [
    "preds=model.predict_proba(fm_train)\n",
    "preds=(preds[:,0] > 0.5)\n",
    "preds=np.where(preds==True,'M','B')\n",
    "\n",
    "confusion_matrix(y_true=tv_train,y_pred=preds)"
   ]
  },
  {
   "cell_type": "code",
   "execution_count": 39,
   "metadata": {},
   "outputs": [
    {
     "data": {
      "text/plain": [
       "array([[  2, 292],\n",
       "       [146,  15]], dtype=int64)"
      ]
     },
     "execution_count": 39,
     "metadata": {},
     "output_type": "execute_result"
    }
   ],
   "source": [
    "preds=model.predict_proba(fm_train)\n",
    "preds=(preds[:,0] >0.35)\n",
    "preds=np.where(preds==True,'M','B')\n",
    "\n",
    "confusion_matrix(y_true=tv_train,y_pred=preds)"
   ]
  },
  {
   "cell_type": "code",
   "execution_count": 40,
   "metadata": {},
   "outputs": [
    {
     "name": "stdout",
     "output_type": "stream",
     "text": [
      "Threshold is 0.0\n",
      "-----------\n",
      "Train\n",
      "[[294   0]\n",
      " [151  10]]\n",
      "test\n",
      "[[63  0]\n",
      " [49  2]]\n",
      "Threshold is 0.05\n",
      "-----------\n",
      "Train\n",
      "[[294   0]\n",
      " [ 37 124]]\n",
      "test\n",
      "[[63  0]\n",
      " [11 40]]\n",
      "Threshold is 0.1\n",
      "-----------\n",
      "Train\n",
      "[[294   0]\n",
      " [ 33 128]]\n",
      "test\n",
      "[[63  0]\n",
      " [ 9 42]]\n",
      "Threshold is 0.15000000000000002\n",
      "-----------\n",
      "Train\n",
      "[[294   0]\n",
      " [ 28 133]]\n",
      "test\n",
      "[[63  0]\n",
      " [ 7 44]]\n",
      "Threshold is 0.2\n",
      "-----------\n",
      "Train\n",
      "[[293   1]\n",
      " [ 24 137]]\n",
      "test\n",
      "[[63  0]\n",
      " [ 7 44]]\n",
      "Threshold is 0.25\n",
      "-----------\n",
      "Train\n",
      "[[293   1]\n",
      " [ 18 143]]\n",
      "test\n",
      "[[63  0]\n",
      " [ 6 45]]\n",
      "Threshold is 0.30000000000000004\n",
      "-----------\n",
      "Train\n",
      "[[293   1]\n",
      " [ 17 144]]\n",
      "test\n",
      "[[63  0]\n",
      " [ 6 45]]\n",
      "Threshold is 0.35000000000000003\n",
      "-----------\n",
      "Train\n",
      "[[292   2]\n",
      " [ 15 146]]\n",
      "test\n",
      "[[63  0]\n",
      " [ 6 45]]\n",
      "Threshold is 0.4\n",
      "-----------\n",
      "Train\n",
      "[[289   5]\n",
      " [ 14 147]]\n",
      "test\n",
      "[[63  0]\n",
      " [ 6 45]]\n",
      "Threshold is 0.45\n",
      "-----------\n",
      "Train\n",
      "[[287   7]\n",
      " [ 14 147]]\n",
      "test\n",
      "[[63  0]\n",
      " [ 6 45]]\n",
      "Threshold is 0.5\n",
      "-----------\n",
      "Train\n",
      "[[284  10]\n",
      " [ 11 150]]\n",
      "test\n",
      "[[63  0]\n",
      " [ 6 45]]\n",
      "Threshold is 0.55\n",
      "-----------\n",
      "Train\n",
      "[[283  11]\n",
      " [ 10 151]]\n",
      "test\n",
      "[[63  0]\n",
      " [ 6 45]]\n",
      "Threshold is 0.6000000000000001\n",
      "-----------\n",
      "Train\n",
      "[[283  11]\n",
      " [  9 152]]\n",
      "test\n",
      "[[62  1]\n",
      " [ 5 46]]\n",
      "Threshold is 0.65\n",
      "-----------\n",
      "Train\n",
      "[[282  12]\n",
      " [  7 154]]\n",
      "test\n",
      "[[62  1]\n",
      " [ 3 48]]\n",
      "Threshold is 0.7000000000000001\n",
      "-----------\n",
      "Train\n",
      "[[281  13]\n",
      " [  7 154]]\n",
      "test\n",
      "[[62  1]\n",
      " [ 3 48]]\n",
      "Threshold is 0.75\n",
      "-----------\n",
      "Train\n",
      "[[278  16]\n",
      " [  5 156]]\n",
      "test\n",
      "[[62  1]\n",
      " [ 3 48]]\n",
      "Threshold is 0.8\n",
      "-----------\n",
      "Train\n",
      "[[276  18]\n",
      " [  3 158]]\n",
      "test\n",
      "[[62  1]\n",
      " [ 2 49]]\n",
      "Threshold is 0.8500000000000001\n",
      "-----------\n",
      "Train\n",
      "[[271  23]\n",
      " [  2 159]]\n",
      "test\n",
      "[[62  1]\n",
      " [ 2 49]]\n",
      "Threshold is 0.9\n",
      "-----------\n",
      "Train\n",
      "[[261  33]\n",
      " [  0 161]]\n",
      "test\n",
      "[[57  6]\n",
      " [ 1 50]]\n",
      "Threshold is 0.9500000000000001\n",
      "-----------\n",
      "Train\n",
      "[[239  55]\n",
      " [  0 161]]\n",
      "test\n",
      "[[50 13]\n",
      " [ 1 50]]\n"
     ]
    }
   ],
   "source": [
    "for i in np.arange(0,1,0.05):\n",
    "    print(\"Threshold is\",i)\n",
    "    print(\"-----------\")\n",
    "    \n",
    "    preds=model.predict_proba(fm_train)\n",
    "    preds=(preds[:,0] > i)\n",
    "    preds=np.where(preds==True,'B','M')\n",
    "    \n",
    "    print(\"Train\")\n",
    "    print(confusion_matrix(y_true=tv_train,y_pred=preds))\n",
    "    \n",
    "    preds=model.predict_proba(fm_test)\n",
    "    preds=(preds[:,0] > i)\n",
    "    preds=np.where(preds == True,'B','M')\n",
    "    \n",
    "    print(\"test\")\n",
    "    print(confusion_matrix(y_true=tv_test,y_pred=preds))"
   ]
  },
  {
   "cell_type": "code",
   "execution_count": 32,
   "metadata": {},
   "outputs": [
    {
     "name": "stdout",
     "output_type": "stream",
     "text": [
      "[[ True False]\n",
      " [ True  True]]\n",
      "[[ True False]\n",
      " [ True  True]]\n",
      "[[ True False]\n",
      " [ True  True]]\n",
      "[[ True False]\n",
      " [ True  True]]\n",
      "[[ True  True]\n",
      " [ True  True]]\n",
      "[[ True  True]\n",
      " [ True  True]]\n",
      "[[ True  True]\n",
      " [ True  True]]\n",
      "[[ True  True]\n",
      " [ True  True]]\n",
      "[[ True  True]\n",
      " [ True  True]]\n",
      "[[ True  True]\n",
      " [ True  True]]\n",
      "[[ True  True]\n",
      " [ True  True]]\n",
      "[[ True  True]\n",
      " [ True  True]]\n",
      "[[ True  True]\n",
      " [ True  True]]\n",
      "[[ True  True]\n",
      " [ True  True]]\n",
      "[[ True  True]\n",
      " [ True  True]]\n",
      "[[ True  True]\n",
      " [ True  True]]\n",
      "[[ True  True]\n",
      " [ True  True]]\n",
      "[[ True  True]\n",
      " [ True  True]]\n",
      "[[ True  True]\n",
      " [False  True]]\n",
      "[[ True  True]\n",
      " [False  True]]\n"
     ]
    }
   ],
   "source": [
    "for i in np.arange(0,1,0.05):\n",
    "                         \n",
    "    preds=model.predict_proba(fm_train)\n",
    "    preds=(preds[:,0] > i)\n",
    "    preds=np.where(preds==True,'B','M')\n",
    "    \n",
    "    \n",
    "    print(confusion_matrix(y_true=tv_train,y_pred=preds) > 0.5)"
   ]
  },
  {
   "cell_type": "markdown",
   "metadata": {},
   "source": [
    "# SVM Model"
   ]
  },
  {
   "cell_type": "code",
   "execution_count": null,
   "metadata": {},
   "outputs": [],
   "source": [
    "from sklearn.svm import SVC"
   ]
  },
  {
   "cell_type": "code",
   "execution_count": 43,
   "metadata": {},
   "outputs": [],
   "source": [
    "model = SVC(gamma='auto', C=10, kernel='linear', probability=True)"
   ]
  },
  {
   "cell_type": "code",
   "execution_count": 44,
   "metadata": {},
   "outputs": [
    {
     "data": {
      "text/plain": [
       "SVC(C=10, cache_size=200, class_weight=None, coef0=0.0,\n",
       "    decision_function_shape='ovr', degree=3, gamma='auto', kernel='linear',\n",
       "    max_iter=-1, probability=True, random_state=None, shrinking=True, tol=0.001,\n",
       "    verbose=False)"
      ]
     },
     "execution_count": 44,
     "metadata": {},
     "output_type": "execute_result"
    }
   ],
   "source": [
    "model"
   ]
  },
  {
   "cell_type": "code",
   "execution_count": 45,
   "metadata": {},
   "outputs": [
    {
     "data": {
      "text/plain": [
       "SVC(C=10, cache_size=200, class_weight=None, coef0=0.0,\n",
       "    decision_function_shape='ovr', degree=3, gamma='auto', kernel='linear',\n",
       "    max_iter=-1, probability=True, random_state=None, shrinking=True, tol=0.001,\n",
       "    verbose=False)"
      ]
     },
     "execution_count": 45,
     "metadata": {},
     "output_type": "execute_result"
    }
   ],
   "source": [
    "model.fit(fm_train, tv_train)"
   ]
  },
  {
   "cell_type": "code",
   "execution_count": 46,
   "metadata": {},
   "outputs": [
    {
     "data": {
      "text/plain": [
       "0.9714285714285714"
      ]
     },
     "execution_count": 46,
     "metadata": {},
     "output_type": "execute_result"
    }
   ],
   "source": [
    "model.score(fm_train, tv_train)"
   ]
  },
  {
   "cell_type": "code",
   "execution_count": 47,
   "metadata": {},
   "outputs": [
    {
     "data": {
      "text/plain": [
       "0.9473684210526315"
      ]
     },
     "execution_count": 47,
     "metadata": {},
     "output_type": "execute_result"
    }
   ],
   "source": [
    "model.score(fm_test, tv_test)"
   ]
  },
  {
   "cell_type": "code",
   "execution_count": 48,
   "metadata": {},
   "outputs": [
    {
     "data": {
      "text/plain": [
       "array([[289,   5],\n",
       "       [  8, 153]], dtype=int64)"
      ]
     },
     "execution_count": 48,
     "metadata": {},
     "output_type": "execute_result"
    }
   ],
   "source": [
    "confusion_matrix(y_true=tv_train, y_pred=model.predict(fm_train))"
   ]
  },
  {
   "cell_type": "code",
   "execution_count": 49,
   "metadata": {},
   "outputs": [
    {
     "data": {
      "text/plain": [
       "array([[63,  0],\n",
       "       [ 6, 45]], dtype=int64)"
      ]
     },
     "execution_count": 49,
     "metadata": {},
     "output_type": "execute_result"
    }
   ],
   "source": [
    "confusion_matrix(y_true=tv_test, y_pred=model.predict(fm_test))"
   ]
  },
  {
   "cell_type": "code",
   "execution_count": 50,
   "metadata": {},
   "outputs": [
    {
     "data": {
      "text/plain": [
       "0.9714285714285714"
      ]
     },
     "execution_count": 50,
     "metadata": {},
     "output_type": "execute_result"
    }
   ],
   "source": [
    "(289+153)/(289+5+8+153)"
   ]
  },
  {
   "cell_type": "code",
   "execution_count": 52,
   "metadata": {},
   "outputs": [
    {
     "data": {
      "text/plain": [
       "0.9473684210526315"
      ]
     },
     "execution_count": 52,
     "metadata": {},
     "output_type": "execute_result"
    }
   ],
   "source": [
    "(63+45)/(63+0+6+45)"
   ]
  },
  {
   "cell_type": "code",
   "execution_count": 53,
   "metadata": {},
   "outputs": [
    {
     "data": {
      "text/plain": [
       "array([[0.99889849, 0.00110151],\n",
       "       [0.93884429, 0.06115571],\n",
       "       [0.88286498, 0.11713502],\n",
       "       [0.99787482, 0.00212518],\n",
       "       [0.99977384, 0.00022616],\n",
       "       [0.93926546, 0.06073454],\n",
       "       [0.99676817, 0.00323183],\n",
       "       [0.76653379, 0.23346621],\n",
       "       [0.99783122, 0.00216878],\n",
       "       [0.99233283, 0.00766717],\n",
       "       [0.99888247, 0.00111753],\n",
       "       [0.93282319, 0.06717681],\n",
       "       [0.97379233, 0.02620767],\n",
       "       [0.99829941, 0.00170059],\n",
       "       [0.99113324, 0.00886676],\n",
       "       [0.98004233, 0.01995767],\n",
       "       [0.99854793, 0.00145207],\n",
       "       [0.98991812, 0.01008188],\n",
       "       [0.99994908, 0.00005092],\n",
       "       [0.85917701, 0.14082299],\n",
       "       [0.98577448, 0.01422552],\n",
       "       [0.9985323 , 0.0014677 ],\n",
       "       [0.00378805, 0.99621195],\n",
       "       [0.86905968, 0.13094032],\n",
       "       [0.99494382, 0.00505618],\n",
       "       [0.99972454, 0.00027546],\n",
       "       [0.24506897, 0.75493103],\n",
       "       [0.99518542, 0.00481458],\n",
       "       [0.9999999 , 0.0000001 ],\n",
       "       [0.        , 1.        ],\n",
       "       [0.03095722, 0.96904278],\n",
       "       [0.78317644, 0.21682356],\n",
       "       [0.99385509, 0.00614491],\n",
       "       [0.91186642, 0.08813358],\n",
       "       [0.00001581, 0.99998419],\n",
       "       [0.97435831, 0.02564169],\n",
       "       [0.87037912, 0.12962088],\n",
       "       [0.        , 1.        ],\n",
       "       [0.00000001, 0.99999999],\n",
       "       [0.98219   , 0.01781   ],\n",
       "       [0.00355422, 0.99644578],\n",
       "       [0.98009518, 0.01990482],\n",
       "       [0.72584724, 0.27415276],\n",
       "       [0.9775038 , 0.0224962 ],\n",
       "       [0.57961267, 0.42038733],\n",
       "       [0.        , 1.        ],\n",
       "       [0.99750429, 0.00249571],\n",
       "       [0.81857678, 0.18142322],\n",
       "       [0.99862597, 0.00137403],\n",
       "       [0.9842727 , 0.0157273 ],\n",
       "       [0.        , 1.        ],\n",
       "       [0.88150157, 0.11849843],\n",
       "       [0.66914166, 0.33085834],\n",
       "       [0.        , 1.        ],\n",
       "       [0.        , 1.        ],\n",
       "       [0.99714538, 0.00285462],\n",
       "       [0.93892896, 0.06107104],\n",
       "       [0.03035814, 0.96964186],\n",
       "       [0.99499136, 0.00500864],\n",
       "       [0.99721385, 0.00278615],\n",
       "       [0.98478981, 0.01521019],\n",
       "       [0.92197764, 0.07802236],\n",
       "       [0.        , 1.        ],\n",
       "       [0.97583835, 0.02416165],\n",
       "       [0.        , 1.        ],\n",
       "       [0.63307015, 0.36692985],\n",
       "       [0.992028  , 0.007972  ],\n",
       "       [0.        , 1.        ],\n",
       "       [0.00000011, 0.99999989],\n",
       "       [0.        , 1.        ],\n",
       "       [0.80529725, 0.19470275],\n",
       "       [0.32400322, 0.67599678],\n",
       "       [0.97547471, 0.02452529],\n",
       "       [0.        , 1.        ],\n",
       "       [0.99422932, 0.00577068],\n",
       "       [0.97306364, 0.02693636],\n",
       "       [0.        , 1.        ],\n",
       "       [0.73088348, 0.26911652],\n",
       "       [0.08926496, 0.91073504],\n",
       "       [0.22401599, 0.77598401],\n",
       "       [0.94421396, 0.05578604],\n",
       "       [0.0703135 , 0.9296865 ],\n",
       "       [0.86702917, 0.13297083],\n",
       "       [0.99828842, 0.00171158],\n",
       "       [0.00000003, 0.99999997],\n",
       "       [0.98203466, 0.01796534],\n",
       "       [0.33176604, 0.66823396],\n",
       "       [0.00000043, 0.99999957],\n",
       "       [0.92811639, 0.07188361],\n",
       "       [0.98227594, 0.01772406],\n",
       "       [0.        , 1.        ],\n",
       "       [0.92634938, 0.07365062],\n",
       "       [0.23867579, 0.76132421],\n",
       "       [0.99936317, 0.00063683],\n",
       "       [0.99036756, 0.00963244],\n",
       "       [0.        , 1.        ],\n",
       "       [0.5202148 , 0.4797852 ],\n",
       "       [0.99863609, 0.00136391],\n",
       "       [0.9343426 , 0.0656574 ],\n",
       "       [0.99859506, 0.00140494],\n",
       "       [0.99694809, 0.00305191],\n",
       "       [0.30640076, 0.69359924],\n",
       "       [0.98733094, 0.01266906],\n",
       "       [0.01831811, 0.98168189],\n",
       "       [0.        , 1.        ],\n",
       "       [0.99333687, 0.00666313],\n",
       "       [0.96365715, 0.03634285],\n",
       "       [0.99819145, 0.00180855],\n",
       "       [0.95079865, 0.04920135],\n",
       "       [0.98957223, 0.01042777],\n",
       "       [0.99744058, 0.00255942],\n",
       "       [0.99228895, 0.00771105],\n",
       "       [0.9722603 , 0.0277397 ],\n",
       "       [0.98539939, 0.01460061],\n",
       "       [0.99401599, 0.00598401],\n",
       "       [0.        , 1.        ],\n",
       "       [0.01081427, 0.98918573],\n",
       "       [0.99771686, 0.00228314],\n",
       "       [0.98321536, 0.01678464],\n",
       "       [0.00000003, 0.99999997],\n",
       "       [0.99936958, 0.00063042],\n",
       "       [0.87115416, 0.12884584],\n",
       "       [0.        , 1.        ],\n",
       "       [0.97106124, 0.02893876],\n",
       "       [0.        , 1.        ],\n",
       "       [0.94826558, 0.05173442],\n",
       "       [0.97739134, 0.02260866],\n",
       "       [0.99024025, 0.00975975],\n",
       "       [0.99948327, 0.00051673],\n",
       "       [0.99117456, 0.00882544],\n",
       "       [0.9922544 , 0.0077456 ],\n",
       "       [0.38768697, 0.61231303],\n",
       "       [0.        , 1.        ],\n",
       "       [0.00000006, 0.99999994],\n",
       "       [0.04075613, 0.95924387],\n",
       "       [0.98863823, 0.01136177],\n",
       "       [0.        , 1.        ],\n",
       "       [0.99807859, 0.00192141],\n",
       "       [0.3316609 , 0.6683391 ],\n",
       "       [0.99981464, 0.00018536],\n",
       "       [0.        , 1.        ],\n",
       "       [0.99680038, 0.00319962],\n",
       "       [0.98756944, 0.01243056],\n",
       "       [0.99892054, 0.00107946],\n",
       "       [0.00000001, 0.99999999],\n",
       "       [0.        , 1.        ],\n",
       "       [0.99807631, 0.00192369],\n",
       "       [0.03715839, 0.96284161],\n",
       "       [0.99804053, 0.00195947],\n",
       "       [0.97879395, 0.02120605],\n",
       "       [0.99703266, 0.00296734],\n",
       "       [0.99350549, 0.00649451],\n",
       "       [0.93327239, 0.06672761],\n",
       "       [0.78860264, 0.21139736],\n",
       "       [0.8029845 , 0.1970155 ],\n",
       "       [0.9905367 , 0.0094633 ],\n",
       "       [0.        , 1.        ],\n",
       "       [0.21798632, 0.78201368],\n",
       "       [0.99890972, 0.00109028],\n",
       "       [0.99738179, 0.00261821],\n",
       "       [0.        , 1.        ],\n",
       "       [0.98557995, 0.01442005],\n",
       "       [0.97837203, 0.02162797],\n",
       "       [0.        , 1.        ],\n",
       "       [0.99377948, 0.00622052],\n",
       "       [0.9993857 , 0.0006143 ],\n",
       "       [0.99575254, 0.00424746],\n",
       "       [0.        , 1.        ],\n",
       "       [0.60394869, 0.39605131],\n",
       "       [0.98809163, 0.01190837],\n",
       "       [0.22505009, 0.77494991],\n",
       "       [0.99925493, 0.00074507],\n",
       "       [0.88575769, 0.11424231],\n",
       "       [0.98387446, 0.01612554],\n",
       "       [0.        , 1.        ],\n",
       "       [0.        , 1.        ],\n",
       "       [0.98801504, 0.01198496],\n",
       "       [0.99517639, 0.00482361],\n",
       "       [0.00585634, 0.99414366],\n",
       "       [0.1090975 , 0.8909025 ],\n",
       "       [0.99620032, 0.00379968],\n",
       "       [0.0000028 , 0.9999972 ],\n",
       "       [0.06699567, 0.93300433],\n",
       "       [0.98464039, 0.01535961],\n",
       "       [0.99686527, 0.00313473],\n",
       "       [0.        , 1.        ],\n",
       "       [0.97753919, 0.02246081],\n",
       "       [0.95092228, 0.04907772],\n",
       "       [0.7331869 , 0.2668131 ],\n",
       "       [0.98541272, 0.01458728],\n",
       "       [0.5659204 , 0.4340796 ],\n",
       "       [0.        , 1.        ],\n",
       "       [0.99986792, 0.00013208],\n",
       "       [0.03759895, 0.96240105],\n",
       "       [0.99597415, 0.00402585],\n",
       "       [0.93807177, 0.06192823],\n",
       "       [0.99447745, 0.00552255],\n",
       "       [0.99730482, 0.00269518],\n",
       "       [0.9759867 , 0.0240133 ],\n",
       "       [0.170441  , 0.829559  ],\n",
       "       [0.91133872, 0.08866128],\n",
       "       [0.        , 1.        ],\n",
       "       [0.88959198, 0.11040802],\n",
       "       [0.99941755, 0.00058245],\n",
       "       [0.77408143, 0.22591857],\n",
       "       [0.97532365, 0.02467635],\n",
       "       [0.98265225, 0.01734775],\n",
       "       [0.96846557, 0.03153443],\n",
       "       [0.99641491, 0.00358509],\n",
       "       [0.13573648, 0.86426352],\n",
       "       [0.45620091, 0.54379909],\n",
       "       [0.4555859 , 0.5444141 ],\n",
       "       [0.        , 1.        ],\n",
       "       [0.99889485, 0.00110515],\n",
       "       [0.54182837, 0.45817163],\n",
       "       [0.80284418, 0.19715582],\n",
       "       [0.99249142, 0.00750858],\n",
       "       [0.99401277, 0.00598723],\n",
       "       [0.00000004, 0.99999996],\n",
       "       [0.06726719, 0.93273281],\n",
       "       [0.99914518, 0.00085482],\n",
       "       [0.99171303, 0.00828697],\n",
       "       [0.98852177, 0.01147823],\n",
       "       [0.90033467, 0.09966533],\n",
       "       [0.9927892 , 0.0072108 ],\n",
       "       [0.00001605, 0.99998395],\n",
       "       [0.4372142 , 0.5627858 ],\n",
       "       [0.        , 1.        ],\n",
       "       [0.99314093, 0.00685907],\n",
       "       [0.        , 1.        ],\n",
       "       [0.99041391, 0.00958609],\n",
       "       [0.99588366, 0.00411634],\n",
       "       [0.99636665, 0.00363335],\n",
       "       [0.        , 1.        ],\n",
       "       [0.00000002, 0.99999998],\n",
       "       [0.99948002, 0.00051998],\n",
       "       [0.18049059, 0.81950941],\n",
       "       [0.74571295, 0.25428705],\n",
       "       [0.00000297, 0.99999703],\n",
       "       [0.35404143, 0.64595857],\n",
       "       [0.        , 1.        ],\n",
       "       [0.99696563, 0.00303437],\n",
       "       [0.99731532, 0.00268468],\n",
       "       [0.99990196, 0.00009804],\n",
       "       [0.99206097, 0.00793903],\n",
       "       [0.98886585, 0.01113415],\n",
       "       [0.2776931 , 0.7223069 ],\n",
       "       [0.00000017, 0.99999983],\n",
       "       [0.        , 1.        ],\n",
       "       [0.        , 1.        ],\n",
       "       [0.81003969, 0.18996031],\n",
       "       [0.9965123 , 0.0034877 ],\n",
       "       [0.90805777, 0.09194223],\n",
       "       [0.9921497 , 0.0078503 ],\n",
       "       [0.        , 1.        ],\n",
       "       [0.00000363, 0.99999637],\n",
       "       [0.07711431, 0.92288569],\n",
       "       [0.00000005, 0.99999995],\n",
       "       [0.45617503, 0.54382497],\n",
       "       [0.00000115, 0.99999885],\n",
       "       [0.        , 1.        ],\n",
       "       [0.00000005, 0.99999995],\n",
       "       [0.14175156, 0.85824844],\n",
       "       [0.95146514, 0.04853486],\n",
       "       [0.99424576, 0.00575424],\n",
       "       [0.9487957 , 0.0512043 ],\n",
       "       [0.97759365, 0.02240635],\n",
       "       [0.00000013, 0.99999987],\n",
       "       [0.99951965, 0.00048035],\n",
       "       [0.88282736, 0.11717264],\n",
       "       [0.97022787, 0.02977213],\n",
       "       [0.97436522, 0.02563478],\n",
       "       [0.99907879, 0.00092121],\n",
       "       [0.99680084, 0.00319916],\n",
       "       [0.00529688, 0.99470312],\n",
       "       [0.82106484, 0.17893516],\n",
       "       [0.0102983 , 0.9897017 ],\n",
       "       [0.22374063, 0.77625937],\n",
       "       [0.00000549, 0.99999451],\n",
       "       [0.99958575, 0.00041425],\n",
       "       [0.99198837, 0.00801163],\n",
       "       [0.00000066, 0.99999934],\n",
       "       [0.        , 1.        ],\n",
       "       [0.09454471, 0.90545529],\n",
       "       [0.99782084, 0.00217916],\n",
       "       [0.02493856, 0.97506144],\n",
       "       [0.98832851, 0.01167149],\n",
       "       [0.98509288, 0.01490712],\n",
       "       [0.07278831, 0.92721169],\n",
       "       [0.1643641 , 0.8356359 ],\n",
       "       [0.65254358, 0.34745642],\n",
       "       [0.99766055, 0.00233945],\n",
       "       [0.9879097 , 0.0120903 ],\n",
       "       [0.99813268, 0.00186732],\n",
       "       [0.05949159, 0.94050841],\n",
       "       [0.007295  , 0.992705  ],\n",
       "       [0.05149214, 0.94850786],\n",
       "       [0.0591729 , 0.9408271 ],\n",
       "       [0.65653236, 0.34346764],\n",
       "       [0.35290922, 0.64709078],\n",
       "       [0.83873182, 0.16126818],\n",
       "       [0.        , 1.        ],\n",
       "       [0.97993076, 0.02006924],\n",
       "       [0.387316  , 0.612684  ],\n",
       "       [0.99534028, 0.00465972],\n",
       "       [0.98728244, 0.01271756],\n",
       "       [0.99934839, 0.00065161],\n",
       "       [0.00000049, 0.99999951],\n",
       "       [0.9980529 , 0.0019471 ],\n",
       "       [0.08590923, 0.91409077],\n",
       "       [0.0000034 , 0.9999966 ],\n",
       "       [0.00000537, 0.99999463],\n",
       "       [0.        , 1.        ],\n",
       "       [0.99840982, 0.00159018],\n",
       "       [0.95418094, 0.04581906],\n",
       "       [0.99263469, 0.00736531],\n",
       "       [0.        , 1.        ],\n",
       "       [0.99737378, 0.00262622],\n",
       "       [0.51545424, 0.48454576],\n",
       "       [0.61338858, 0.38661142],\n",
       "       [0.        , 1.        ],\n",
       "       [0.95040975, 0.04959025],\n",
       "       [0.99793954, 0.00206046],\n",
       "       [0.99878648, 0.00121352],\n",
       "       [0.95923626, 0.04076374],\n",
       "       [0.        , 1.        ],\n",
       "       [0.99001689, 0.00998311],\n",
       "       [0.01027582, 0.98972418],\n",
       "       [0.        , 1.        ],\n",
       "       [0.00000171, 0.99999829],\n",
       "       [0.85122985, 0.14877015],\n",
       "       [0.02590386, 0.97409614],\n",
       "       [0.00000091, 0.99999909],\n",
       "       [0.9931628 , 0.0068372 ],\n",
       "       [0.83038184, 0.16961816],\n",
       "       [0.        , 1.        ],\n",
       "       [0.99744665, 0.00255335],\n",
       "       [0.0132448 , 0.9867552 ],\n",
       "       [0.99697354, 0.00302646],\n",
       "       [0.9988855 , 0.0011145 ],\n",
       "       [0.99829832, 0.00170168],\n",
       "       [0.99710889, 0.00289111],\n",
       "       [0.99935651, 0.00064349],\n",
       "       [0.98482618, 0.01517382],\n",
       "       [0.        , 1.        ],\n",
       "       [0.00000037, 0.99999963],\n",
       "       [0.01320615, 0.98679385],\n",
       "       [0.99065947, 0.00934053],\n",
       "       [0.87864766, 0.12135234],\n",
       "       [0.9914339 , 0.0085661 ],\n",
       "       [0.99673469, 0.00326531],\n",
       "       [0.97850047, 0.02149953],\n",
       "       [0.03281224, 0.96718776],\n",
       "       [0.98293202, 0.01706798],\n",
       "       [0.        , 1.        ],\n",
       "       [0.99860462, 0.00139538],\n",
       "       [0.0000027 , 0.9999973 ],\n",
       "       [0.        , 1.        ],\n",
       "       [0.99758459, 0.00241541],\n",
       "       [0.80760427, 0.19239573],\n",
       "       [0.9768093 , 0.0231907 ],\n",
       "       [0.00001373, 0.99998627],\n",
       "       [0.98371419, 0.01628581],\n",
       "       [0.96161676, 0.03838324],\n",
       "       [0.96997913, 0.03002087],\n",
       "       [0.97167606, 0.02832394],\n",
       "       [0.85324858, 0.14675142],\n",
       "       [0.99825201, 0.00174799],\n",
       "       [0.97951687, 0.02048313],\n",
       "       [0.20959202, 0.79040798],\n",
       "       [0.98438377, 0.01561623],\n",
       "       [0.99617452, 0.00382548],\n",
       "       [0.99279396, 0.00720604],\n",
       "       [0.01524966, 0.98475034],\n",
       "       [0.99984106, 0.00015894],\n",
       "       [0.99992281, 0.00007719],\n",
       "       [0.99906078, 0.00093922],\n",
       "       [0.09072945, 0.90927055],\n",
       "       [0.99812597, 0.00187403],\n",
       "       [0.99897309, 0.00102691],\n",
       "       [0.96506458, 0.03493542],\n",
       "       [0.98913268, 0.01086732],\n",
       "       [0.        , 1.        ],\n",
       "       [0.99253194, 0.00746806],\n",
       "       [0.99436507, 0.00563493],\n",
       "       [0.80476433, 0.19523567],\n",
       "       [0.        , 1.        ],\n",
       "       [0.00000315, 0.99999685],\n",
       "       [0.99518732, 0.00481268],\n",
       "       [0.99136205, 0.00863795],\n",
       "       [0.99996168, 0.00003832],\n",
       "       [0.00000699, 0.99999301],\n",
       "       [0.99426146, 0.00573854],\n",
       "       [0.9975974 , 0.0024026 ],\n",
       "       [0.00807032, 0.99192968],\n",
       "       [0.97019829, 0.02980171],\n",
       "       [0.98453977, 0.01546023],\n",
       "       [0.86088623, 0.13911377],\n",
       "       [0.00001708, 0.99998292],\n",
       "       [0.97345123, 0.02654877],\n",
       "       [0.        , 1.        ],\n",
       "       [0.99786229, 0.00213771],\n",
       "       [0.9621895 , 0.0378105 ],\n",
       "       [0.96867701, 0.03132299],\n",
       "       [0.09139904, 0.90860096],\n",
       "       [0.1460614 , 0.8539386 ],\n",
       "       [0.91551535, 0.08448465],\n",
       "       [0.96437273, 0.03562727],\n",
       "       [0.99793651, 0.00206349],\n",
       "       [0.65579045, 0.34420955],\n",
       "       [0.99985434, 0.00014566],\n",
       "       [0.99827296, 0.00172704],\n",
       "       [0.99400729, 0.00599271],\n",
       "       [0.99314353, 0.00685647],\n",
       "       [0.96019854, 0.03980146],\n",
       "       [0.86320763, 0.13679237],\n",
       "       [0.04168142, 0.95831858],\n",
       "       [0.99340977, 0.00659023],\n",
       "       [0.94563164, 0.05436836],\n",
       "       [0.99872453, 0.00127547],\n",
       "       [0.90163735, 0.09836265],\n",
       "       [0.99783912, 0.00216088],\n",
       "       [0.00000515, 0.99999485],\n",
       "       [0.00000416, 0.99999584],\n",
       "       [0.03002853, 0.96997147],\n",
       "       [0.87660997, 0.12339003],\n",
       "       [0.99193217, 0.00806783],\n",
       "       [0.9957737 , 0.0042263 ],\n",
       "       [0.99911329, 0.00088671],\n",
       "       [0.9998635 , 0.0001365 ],\n",
       "       [0.96564933, 0.03435067],\n",
       "       [0.99496753, 0.00503247],\n",
       "       [0.96558015, 0.03441985],\n",
       "       [0.99140695, 0.00859305],\n",
       "       [0.94601635, 0.05398365],\n",
       "       [0.98678095, 0.01321905],\n",
       "       [0.94871617, 0.05128383],\n",
       "       [0.80545282, 0.19454718],\n",
       "       [0.98877801, 0.01122199],\n",
       "       [0.9822191 , 0.0177809 ],\n",
       "       [0.28684853, 0.71315147],\n",
       "       [0.99961622, 0.00038378],\n",
       "       [0.99934479, 0.00065521],\n",
       "       [0.99698983, 0.00301017],\n",
       "       [0.99963739, 0.00036261],\n",
       "       [0.98714541, 0.01285459],\n",
       "       [0.99556332, 0.00443668],\n",
       "       [0.9984742 , 0.0015258 ],\n",
       "       [0.00000044, 0.99999956],\n",
       "       [0.98768016, 0.01231984],\n",
       "       [0.99967555, 0.00032445],\n",
       "       [0.91834796, 0.08165204],\n",
       "       [0.99142653, 0.00857347],\n",
       "       [0.95773201, 0.04226799],\n",
       "       [0.99396864, 0.00603136]])"
      ]
     },
     "execution_count": 53,
     "metadata": {},
     "output_type": "execute_result"
    }
   ],
   "source": [
    "model.predict_proba(fm_train)"
   ]
  },
  {
   "cell_type": "code",
   "execution_count": 55,
   "metadata": {},
   "outputs": [],
   "source": [
    "from sklearn.metrics import accuracy_score"
   ]
  },
  {
   "cell_type": "code",
   "execution_count": 57,
   "metadata": {},
   "outputs": [
    {
     "data": {
      "text/plain": [
       "87.71929824561403"
      ]
     },
     "execution_count": 57,
     "metadata": {},
     "output_type": "execute_result"
    }
   ],
   "source": [
    "accuracy_score(tv_test,preds)*100"
   ]
  },
  {
   "cell_type": "markdown",
   "metadata": {},
   "source": [
    "# DecisionTreemodel"
   ]
  },
  {
   "cell_type": "code",
   "execution_count": 59,
   "metadata": {},
   "outputs": [],
   "source": [
    "from sklearn.tree import DecisionTreeClassifier"
   ]
  },
  {
   "cell_type": "code",
   "execution_count": 60,
   "metadata": {},
   "outputs": [],
   "source": [
    "model = DecisionTreeClassifier(criterion='entropy', min_samples_split=15)"
   ]
  },
  {
   "cell_type": "code",
   "execution_count": 61,
   "metadata": {},
   "outputs": [
    {
     "data": {
      "text/plain": [
       "DecisionTreeClassifier(class_weight=None, criterion='entropy', max_depth=None,\n",
       "                       max_features=None, max_leaf_nodes=None,\n",
       "                       min_impurity_decrease=0.0, min_impurity_split=None,\n",
       "                       min_samples_leaf=1, min_samples_split=15,\n",
       "                       min_weight_fraction_leaf=0.0, presort=False,\n",
       "                       random_state=None, splitter='best')"
      ]
     },
     "execution_count": 61,
     "metadata": {},
     "output_type": "execute_result"
    }
   ],
   "source": [
    "model.fit(X=fm_train, y=tv_train)"
   ]
  },
  {
   "cell_type": "code",
   "execution_count": 62,
   "metadata": {},
   "outputs": [
    {
     "data": {
      "text/plain": [
       "0.9714285714285714"
      ]
     },
     "execution_count": 62,
     "metadata": {},
     "output_type": "execute_result"
    }
   ],
   "source": [
    "model.score(X=fm_train, y=tv_train)"
   ]
  },
  {
   "cell_type": "code",
   "execution_count": 63,
   "metadata": {},
   "outputs": [
    {
     "data": {
      "text/plain": [
       "0.9649122807017544"
      ]
     },
     "execution_count": 63,
     "metadata": {},
     "output_type": "execute_result"
    }
   ],
   "source": [
    "model.score(X=fm_test, y=tv_test)"
   ]
  },
  {
   "cell_type": "code",
   "execution_count": 64,
   "metadata": {},
   "outputs": [],
   "source": [
    "from sklearn.metrics import confusion_matrix"
   ]
  },
  {
   "cell_type": "code",
   "execution_count": 65,
   "metadata": {},
   "outputs": [
    {
     "data": {
      "text/plain": [
       "array([[294,   0],\n",
       "       [ 13, 148]], dtype=int64)"
      ]
     },
     "execution_count": 65,
     "metadata": {},
     "output_type": "execute_result"
    }
   ],
   "source": [
    "# Training Data\n",
    "confusion_matrix(y_true=tv_train, y_pred=model.predict(fm_train))"
   ]
  },
  {
   "cell_type": "code",
   "execution_count": 66,
   "metadata": {},
   "outputs": [
    {
     "data": {
      "text/plain": [
       "array([[63,  0],\n",
       "       [ 4, 47]], dtype=int64)"
      ]
     },
     "execution_count": 66,
     "metadata": {},
     "output_type": "execute_result"
    }
   ],
   "source": [
    "# Test Data\n",
    "confusion_matrix(y_true=tv_test, y_pred=model.predict(fm_test))"
   ]
  },
  {
   "cell_type": "code",
   "execution_count": 68,
   "metadata": {},
   "outputs": [
    {
     "name": "stdout",
     "output_type": "stream",
     "text": [
      "Collecting pydotplus\n",
      "Requirement already satisfied: pyparsing>=2.0.1 in c:\\users\\siddy\\anaconda3\\lib\\site-packages (from pydotplus) (2.4.2)\n",
      "Installing collected packages: pydotplus\n",
      "Successfully installed pydotplus-2.0.2\n"
     ]
    }
   ],
   "source": [
    "!pip install pydotplus"
   ]
  },
  {
   "cell_type": "code",
   "execution_count": 69,
   "metadata": {},
   "outputs": [
    {
     "data": {
      "image/png": "[encoded data removed]",
      "text/plain": [
       "<IPython.core.display.Image object>"
      ]
     },
     "execution_count": 69,
     "metadata": {},
     "output_type": "execute_result"
    }
   ],
   "source": [
    "from sklearn.externals.six import StringIO  \n",
    "from IPython.display import Image  \n",
    "from sklearn.tree import export_graphviz\n",
    "import pydotplus\n",
    "\n",
    "dot_data = StringIO()\n",
    "export_graphviz(model, out_file=dot_data,  \n",
    "                filled=True, rounded=True,\n",
    "                special_characters=True, feature_names = fm_train.columns)\n",
    "graph = pydotplus.graph_from_dot_data(dot_data.getvalue())  \n",
    "Image(graph.create_png())"
   ]
  },
  {
   "cell_type": "code",
   "execution_count": 70,
   "metadata": {},
   "outputs": [
    {
     "data": {
      "text/plain": [
       "array([[1.        , 0.        ],\n",
       "       [1.        , 0.        ],\n",
       "       [1.        , 0.        ],\n",
       "       [1.        , 0.        ],\n",
       "       [1.        , 0.        ],\n",
       "       [0.76923077, 0.23076923],\n",
       "       [1.        , 0.        ],\n",
       "       [1.        , 0.        ],\n",
       "       [1.        , 0.        ],\n",
       "       [1.        , 0.        ],\n",
       "       [1.        , 0.        ],\n",
       "       [1.        , 0.        ],\n",
       "       [1.        , 0.        ],\n",
       "       [1.        , 0.        ],\n",
       "       [1.        , 0.        ],\n",
       "       [1.        , 0.        ],\n",
       "       [1.        , 0.        ],\n",
       "       [1.        , 0.        ],\n",
       "       [1.        , 0.        ],\n",
       "       [1.        , 0.        ],\n",
       "       [1.        , 0.        ],\n",
       "       [1.        , 0.        ],\n",
       "       [0.        , 1.        ],\n",
       "       [1.        , 0.        ],\n",
       "       [1.        , 0.        ],\n",
       "       [1.        , 0.        ],\n",
       "       [0.        , 1.        ],\n",
       "       [1.        , 0.        ],\n",
       "       [1.        , 0.        ],\n",
       "       [0.        , 1.        ],\n",
       "       [0.        , 1.        ],\n",
       "       [0.5       , 0.5       ],\n",
       "       [1.        , 0.        ],\n",
       "       [1.        , 0.        ],\n",
       "       [0.        , 1.        ],\n",
       "       [1.        , 0.        ],\n",
       "       [1.        , 0.        ],\n",
       "       [0.        , 1.        ],\n",
       "       [0.        , 1.        ],\n",
       "       [1.        , 0.        ],\n",
       "       [0.        , 1.        ],\n",
       "       [1.        , 0.        ],\n",
       "       [0.5       , 0.5       ],\n",
       "       [1.        , 0.        ],\n",
       "       [1.        , 0.        ],\n",
       "       [0.        , 1.        ],\n",
       "       [1.        , 0.        ],\n",
       "       [0.5       , 0.5       ],\n",
       "       [1.        , 0.        ],\n",
       "       [1.        , 0.        ],\n",
       "       [0.        , 1.        ],\n",
       "       [1.        , 0.        ],\n",
       "       [1.        , 0.        ],\n",
       "       [0.        , 1.        ],\n",
       "       [0.        , 1.        ],\n",
       "       [1.        , 0.        ],\n",
       "       [1.        , 0.        ],\n",
       "       [0.5       , 0.5       ],\n",
       "       [1.        , 0.        ],\n",
       "       [1.        , 0.        ],\n",
       "       [1.        , 0.        ],\n",
       "       [1.        , 0.        ],\n",
       "       [0.        , 1.        ],\n",
       "       [1.        , 0.        ],\n",
       "       [0.        , 1.        ],\n",
       "       [0.76923077, 0.23076923],\n",
       "       [1.        , 0.        ],\n",
       "       [0.        , 1.        ],\n",
       "       [0.        , 1.        ],\n",
       "       [0.        , 1.        ],\n",
       "       [0.        , 1.        ],\n",
       "       [0.        , 1.        ],\n",
       "       [1.        , 0.        ],\n",
       "       [0.        , 1.        ],\n",
       "       [1.        , 0.        ],\n",
       "       [1.        , 0.        ],\n",
       "       [0.        , 1.        ],\n",
       "       [0.        , 1.        ],\n",
       "       [0.        , 1.        ],\n",
       "       [0.        , 1.        ],\n",
       "       [1.        , 0.        ],\n",
       "       [0.        , 1.        ],\n",
       "       [1.        , 0.        ],\n",
       "       [1.        , 0.        ],\n",
       "       [0.        , 1.        ],\n",
       "       [0.76923077, 0.23076923],\n",
       "       [0.        , 1.        ],\n",
       "       [0.        , 1.        ],\n",
       "       [1.        , 0.        ],\n",
       "       [1.        , 0.        ],\n",
       "       [0.        , 1.        ],\n",
       "       [0.75      , 0.25      ],\n",
       "       [0.        , 1.        ],\n",
       "       [1.        , 0.        ],\n",
       "       [0.75      , 0.25      ],\n",
       "       [0.        , 1.        ],\n",
       "       [1.        , 0.        ],\n",
       "       [1.        , 0.        ],\n",
       "       [0.76923077, 0.23076923],\n",
       "       [1.        , 0.        ],\n",
       "       [1.        , 0.        ],\n",
       "       [0.        , 1.        ],\n",
       "       [1.        , 0.        ],\n",
       "       [0.        , 1.        ],\n",
       "       [0.        , 1.        ],\n",
       "       [1.        , 0.        ],\n",
       "       [1.        , 0.        ],\n",
       "       [1.        , 0.        ],\n",
       "       [1.        , 0.        ],\n",
       "       [1.        , 0.        ],\n",
       "       [1.        , 0.        ],\n",
       "       [1.        , 0.        ],\n",
       "       [1.        , 0.        ],\n",
       "       [0.75      , 0.25      ],\n",
       "       [1.        , 0.        ],\n",
       "       [0.        , 1.        ],\n",
       "       [0.        , 1.        ],\n",
       "       [1.        , 0.        ],\n",
       "       [1.        , 0.        ],\n",
       "       [0.        , 1.        ],\n",
       "       [1.        , 0.        ],\n",
       "       [0.76923077, 0.23076923],\n",
       "       [0.        , 1.        ],\n",
       "       [1.        , 0.        ],\n",
       "       [0.        , 1.        ],\n",
       "       [0.76923077, 0.23076923],\n",
       "       [1.        , 0.        ],\n",
       "       [1.        , 0.        ],\n",
       "       [1.        , 0.        ],\n",
       "       [1.        , 0.        ],\n",
       "       [1.        , 0.        ],\n",
       "       [0.5       , 0.5       ],\n",
       "       [0.        , 1.        ],\n",
       "       [0.        , 1.        ],\n",
       "       [0.        , 1.        ],\n",
       "       [0.75      , 0.25      ],\n",
       "       [0.        , 1.        ],\n",
       "       [1.        , 0.        ],\n",
       "       [0.        , 1.        ],\n",
       "       [1.        , 0.        ],\n",
       "       [0.        , 1.        ],\n",
       "       [1.        , 0.        ],\n",
       "       [1.        , 0.        ],\n",
       "       [1.        , 0.        ],\n",
       "       [0.        , 1.        ],\n",
       "       [0.        , 1.        ],\n",
       "       [1.        , 0.        ],\n",
       "       [0.        , 1.        ],\n",
       "       [1.        , 0.        ],\n",
       "       [1.        , 0.        ],\n",
       "       [1.        , 0.        ],\n",
       "       [1.        , 0.        ],\n",
       "       [1.        , 0.        ],\n",
       "       [1.        , 0.        ],\n",
       "       [0.75      , 0.25      ],\n",
       "       [1.        , 0.        ],\n",
       "       [0.        , 1.        ],\n",
       "       [0.        , 1.        ],\n",
       "       [1.        , 0.        ],\n",
       "       [1.        , 0.        ],\n",
       "       [0.        , 1.        ],\n",
       "       [1.        , 0.        ],\n",
       "       [1.        , 0.        ],\n",
       "       [0.        , 1.        ],\n",
       "       [1.        , 0.        ],\n",
       "       [1.        , 0.        ],\n",
       "       [1.        , 0.        ],\n",
       "       [0.        , 1.        ],\n",
       "       [0.        , 1.        ],\n",
       "       [1.        , 0.        ],\n",
       "       [0.        , 1.        ],\n",
       "       [1.        , 0.        ],\n",
       "       [0.        , 1.        ],\n",
       "       [1.        , 0.        ],\n",
       "       [0.        , 1.        ],\n",
       "       [0.        , 1.        ],\n",
       "       [1.        , 0.        ],\n",
       "       [1.        , 0.        ],\n",
       "       [0.        , 1.        ],\n",
       "       [0.        , 1.        ],\n",
       "       [1.        , 0.        ],\n",
       "       [0.        , 1.        ],\n",
       "       [0.        , 1.        ],\n",
       "       [1.        , 0.        ],\n",
       "       [1.        , 0.        ],\n",
       "       [0.        , 1.        ],\n",
       "       [1.        , 0.        ],\n",
       "       [1.        , 0.        ],\n",
       "       [0.5       , 0.5       ],\n",
       "       [1.        , 0.        ],\n",
       "       [0.75      , 0.25      ],\n",
       "       [0.        , 1.        ],\n",
       "       [1.        , 0.        ],\n",
       "       [0.        , 1.        ],\n",
       "       [1.        , 0.        ],\n",
       "       [0.75      , 0.25      ],\n",
       "       [1.        , 0.        ],\n",
       "       [1.        , 0.        ],\n",
       "       [1.        , 0.        ],\n",
       "       [0.        , 1.        ],\n",
       "       [1.        , 0.        ],\n",
       "       [0.        , 1.        ],\n",
       "       [0.5       , 0.5       ],\n",
       "       [1.        , 0.        ],\n",
       "       [1.        , 0.        ],\n",
       "       [0.76923077, 0.23076923],\n",
       "       [1.        , 0.        ],\n",
       "       [1.        , 0.        ],\n",
       "       [1.        , 0.        ],\n",
       "       [0.76923077, 0.23076923],\n",
       "       [0.75      , 0.25      ],\n",
       "       [0.        , 1.        ],\n",
       "       [0.        , 1.        ],\n",
       "       [1.        , 0.        ],\n",
       "       [0.5       , 0.5       ],\n",
       "       [1.        , 0.        ],\n",
       "       [1.        , 0.        ],\n",
       "       [1.        , 0.        ],\n",
       "       [0.        , 1.        ],\n",
       "       [0.        , 1.        ],\n",
       "       [1.        , 0.        ],\n",
       "       [1.        , 0.        ],\n",
       "       [1.        , 0.        ],\n",
       "       [1.        , 0.        ],\n",
       "       [1.        , 0.        ],\n",
       "       [0.        , 1.        ],\n",
       "       [0.        , 1.        ],\n",
       "       [0.        , 1.        ],\n",
       "       [1.        , 0.        ],\n",
       "       [0.        , 1.        ],\n",
       "       [1.        , 0.        ],\n",
       "       [1.        , 0.        ],\n",
       "       [1.        , 0.        ],\n",
       "       [0.        , 1.        ],\n",
       "       [0.        , 1.        ],\n",
       "       [1.        , 0.        ],\n",
       "       [0.        , 1.        ],\n",
       "       [1.        , 0.        ],\n",
       "       [0.        , 1.        ],\n",
       "       [0.5       , 0.5       ],\n",
       "       [0.        , 1.        ],\n",
       "       [1.        , 0.        ],\n",
       "       [1.        , 0.        ],\n",
       "       [1.        , 0.        ],\n",
       "       [1.        , 0.        ],\n",
       "       [1.        , 0.        ],\n",
       "       [0.        , 1.        ],\n",
       "       [0.        , 1.        ],\n",
       "       [0.        , 1.        ],\n",
       "       [0.        , 1.        ],\n",
       "       [1.        , 0.        ],\n",
       "       [1.        , 0.        ],\n",
       "       [1.        , 0.        ],\n",
       "       [1.        , 0.        ],\n",
       "       [0.        , 1.        ],\n",
       "       [0.        , 1.        ],\n",
       "       [0.        , 1.        ],\n",
       "       [0.        , 1.        ],\n",
       "       [0.5       , 0.5       ],\n",
       "       [0.        , 1.        ],\n",
       "       [0.        , 1.        ],\n",
       "       [0.        , 1.        ],\n",
       "       [0.        , 1.        ],\n",
       "       [1.        , 0.        ],\n",
       "       [1.        , 0.        ],\n",
       "       [1.        , 0.        ],\n",
       "       [1.        , 0.        ],\n",
       "       [0.        , 1.        ],\n",
       "       [1.        , 0.        ],\n",
       "       [1.        , 0.        ],\n",
       "       [1.        , 0.        ],\n",
       "       [1.        , 0.        ],\n",
       "       [1.        , 0.        ],\n",
       "       [1.        , 0.        ],\n",
       "       [0.        , 1.        ],\n",
       "       [1.        , 0.        ],\n",
       "       [0.        , 1.        ],\n",
       "       [0.        , 1.        ],\n",
       "       [0.        , 1.        ],\n",
       "       [1.        , 0.        ],\n",
       "       [0.75      , 0.25      ],\n",
       "       [0.        , 1.        ],\n",
       "       [0.        , 1.        ],\n",
       "       [0.        , 1.        ],\n",
       "       [1.        , 0.        ],\n",
       "       [0.        , 1.        ],\n",
       "       [1.        , 0.        ],\n",
       "       [1.        , 0.        ],\n",
       "       [0.        , 1.        ],\n",
       "       [0.        , 1.        ],\n",
       "       [0.76923077, 0.23076923],\n",
       "       [1.        , 0.        ],\n",
       "       [1.        , 0.        ],\n",
       "       [1.        , 0.        ],\n",
       "       [0.        , 1.        ],\n",
       "       [0.        , 1.        ],\n",
       "       [0.        , 1.        ],\n",
       "       [0.        , 1.        ],\n",
       "       [0.5       , 0.5       ],\n",
       "       [0.        , 1.        ],\n",
       "       [1.        , 0.        ],\n",
       "       [0.        , 1.        ],\n",
       "       [1.        , 0.        ],\n",
       "       [0.76923077, 0.23076923],\n",
       "       [1.        , 0.        ],\n",
       "       [1.        , 0.        ],\n",
       "       [1.        , 0.        ],\n",
       "       [0.        , 1.        ],\n",
       "       [1.        , 0.        ],\n",
       "       [0.        , 1.        ],\n",
       "       [0.        , 1.        ],\n",
       "       [0.        , 1.        ],\n",
       "       [0.        , 1.        ],\n",
       "       [0.75      , 0.25      ],\n",
       "       [0.76923077, 0.23076923],\n",
       "       [1.        , 0.        ],\n",
       "       [0.        , 1.        ],\n",
       "       [1.        , 0.        ],\n",
       "       [1.        , 0.        ],\n",
       "       [1.        , 0.        ],\n",
       "       [0.        , 1.        ],\n",
       "       [1.        , 0.        ],\n",
       "       [1.        , 0.        ],\n",
       "       [1.        , 0.        ],\n",
       "       [1.        , 0.        ],\n",
       "       [0.        , 1.        ],\n",
       "       [1.        , 0.        ],\n",
       "       [0.        , 1.        ],\n",
       "       [0.        , 1.        ],\n",
       "       [0.        , 1.        ],\n",
       "       [1.        , 0.        ],\n",
       "       [0.        , 1.        ],\n",
       "       [0.        , 1.        ],\n",
       "       [1.        , 0.        ],\n",
       "       [1.        , 0.        ],\n",
       "       [0.        , 1.        ],\n",
       "       [1.        , 0.        ],\n",
       "       [0.        , 1.        ],\n",
       "       [1.        , 0.        ],\n",
       "       [1.        , 0.        ],\n",
       "       [1.        , 0.        ],\n",
       "       [1.        , 0.        ],\n",
       "       [1.        , 0.        ],\n",
       "       [1.        , 0.        ],\n",
       "       [0.        , 1.        ],\n",
       "       [0.        , 1.        ],\n",
       "       [0.        , 1.        ],\n",
       "       [1.        , 0.        ],\n",
       "       [0.75      , 0.25      ],\n",
       "       [1.        , 0.        ],\n",
       "       [1.        , 0.        ],\n",
       "       [1.        , 0.        ],\n",
       "       [0.        , 1.        ],\n",
       "       [1.        , 0.        ],\n",
       "       [0.        , 1.        ],\n",
       "       [1.        , 0.        ],\n",
       "       [0.        , 1.        ],\n",
       "       [0.        , 1.        ],\n",
       "       [1.        , 0.        ],\n",
       "       [1.        , 0.        ],\n",
       "       [1.        , 0.        ],\n",
       "       [0.        , 1.        ],\n",
       "       [1.        , 0.        ],\n",
       "       [1.        , 0.        ],\n",
       "       [1.        , 0.        ],\n",
       "       [1.        , 0.        ],\n",
       "       [0.5       , 0.5       ],\n",
       "       [1.        , 0.        ],\n",
       "       [0.76923077, 0.23076923],\n",
       "       [0.        , 1.        ],\n",
       "       [1.        , 0.        ],\n",
       "       [1.        , 0.        ],\n",
       "       [1.        , 0.        ],\n",
       "       [0.        , 1.        ],\n",
       "       [1.        , 0.        ],\n",
       "       [1.        , 0.        ],\n",
       "       [1.        , 0.        ],\n",
       "       [0.        , 1.        ],\n",
       "       [0.75      , 0.25      ],\n",
       "       [1.        , 0.        ],\n",
       "       [1.        , 0.        ],\n",
       "       [1.        , 0.        ],\n",
       "       [0.        , 1.        ],\n",
       "       [1.        , 0.        ],\n",
       "       [1.        , 0.        ],\n",
       "       [1.        , 0.        ],\n",
       "       [0.        , 1.        ],\n",
       "       [0.        , 1.        ],\n",
       "       [1.        , 0.        ],\n",
       "       [1.        , 0.        ],\n",
       "       [1.        , 0.        ],\n",
       "       [0.        , 1.        ],\n",
       "       [1.        , 0.        ],\n",
       "       [1.        , 0.        ],\n",
       "       [0.        , 1.        ],\n",
       "       [1.        , 0.        ],\n",
       "       [1.        , 0.        ],\n",
       "       [1.        , 0.        ],\n",
       "       [0.        , 1.        ],\n",
       "       [1.        , 0.        ],\n",
       "       [0.        , 1.        ],\n",
       "       [1.        , 0.        ],\n",
       "       [1.        , 0.        ],\n",
       "       [1.        , 0.        ],\n",
       "       [0.        , 1.        ],\n",
       "       [0.5       , 0.5       ],\n",
       "       [1.        , 0.        ],\n",
       "       [1.        , 0.        ],\n",
       "       [1.        , 0.        ],\n",
       "       [1.        , 0.        ],\n",
       "       [1.        , 0.        ],\n",
       "       [1.        , 0.        ],\n",
       "       [1.        , 0.        ],\n",
       "       [1.        , 0.        ],\n",
       "       [1.        , 0.        ],\n",
       "       [1.        , 0.        ],\n",
       "       [0.        , 1.        ],\n",
       "       [0.76923077, 0.23076923],\n",
       "       [1.        , 0.        ],\n",
       "       [1.        , 0.        ],\n",
       "       [1.        , 0.        ],\n",
       "       [1.        , 0.        ],\n",
       "       [0.        , 1.        ],\n",
       "       [0.        , 1.        ],\n",
       "       [0.        , 1.        ],\n",
       "       [1.        , 0.        ],\n",
       "       [1.        , 0.        ],\n",
       "       [1.        , 0.        ],\n",
       "       [1.        , 0.        ],\n",
       "       [1.        , 0.        ],\n",
       "       [1.        , 0.        ],\n",
       "       [1.        , 0.        ],\n",
       "       [1.        , 0.        ],\n",
       "       [1.        , 0.        ],\n",
       "       [1.        , 0.        ],\n",
       "       [1.        , 0.        ],\n",
       "       [1.        , 0.        ],\n",
       "       [1.        , 0.        ],\n",
       "       [1.        , 0.        ],\n",
       "       [1.        , 0.        ],\n",
       "       [0.5       , 0.5       ],\n",
       "       [1.        , 0.        ],\n",
       "       [1.        , 0.        ],\n",
       "       [1.        , 0.        ],\n",
       "       [1.        , 0.        ],\n",
       "       [1.        , 0.        ],\n",
       "       [1.        , 0.        ],\n",
       "       [1.        , 0.        ],\n",
       "       [0.        , 1.        ],\n",
       "       [1.        , 0.        ],\n",
       "       [1.        , 0.        ],\n",
       "       [1.        , 0.        ],\n",
       "       [1.        , 0.        ],\n",
       "       [1.        , 0.        ],\n",
       "       [1.        , 0.        ]])"
      ]
     },
     "execution_count": 70,
     "metadata": {},
     "output_type": "execute_result"
    }
   ],
   "source": [
    "model.predict_proba(fm_train)"
   ]
  },
  {
   "cell_type": "code",
   "execution_count": 71,
   "metadata": {},
   "outputs": [
    {
     "data": {
      "image/png": "[encoded data removed]",
      "text/plain": [
       "<IPython.core.display.Image object>"
      ]
     },
     "execution_count": 71,
     "metadata": {},
     "output_type": "execute_result"
    }
   ],
   "source": [
    "from sklearn.externals.six import StringIO  \n",
    "from IPython.display import Image  \n",
    "from sklearn.tree import export_graphviz\n",
    "import pydotplus\n",
    "\n",
    "dot_data = StringIO()\n",
    "export_graphviz(model, out_file=dot_data,  \n",
    "                filled=True, rounded=True,\n",
    "                special_characters=True, feature_names = fm_train.columns)\n",
    "graph = pydotplus.graph_from_dot_data(dot_data.getvalue())  \n",
    "Image(graph.create_png())"
   ]
  },
  {
   "cell_type": "markdown",
   "metadata": {},
   "source": [
    "# Random Forest"
   ]
  },
  {
   "cell_type": "code",
   "execution_count": 72,
   "metadata": {},
   "outputs": [],
   "source": [
    "from sklearn.ensemble import RandomForestClassifier"
   ]
  },
  {
   "cell_type": "code",
   "execution_count": 74,
   "metadata": {},
   "outputs": [
    {
     "data": {
      "text/plain": [
       "RandomForestClassifier(bootstrap=True, class_weight=None, criterion='gini',\n",
       "                       max_depth=None, max_features='auto', max_leaf_nodes=None,\n",
       "                       min_impurity_decrease=0.0, min_impurity_split=None,\n",
       "                       min_samples_leaf=1, min_samples_split=2,\n",
       "                       min_weight_fraction_leaf=0.0, n_estimators=100,\n",
       "                       n_jobs=None, oob_score=False, random_state=None,\n",
       "                       verbose=0, warm_start=False)"
      ]
     },
     "execution_count": 74,
     "metadata": {},
     "output_type": "execute_result"
    }
   ],
   "source": [
    "model = RandomForestClassifier(n_estimators=100)\n",
    "model"
   ]
  },
  {
   "cell_type": "code",
   "execution_count": 75,
   "metadata": {},
   "outputs": [
    {
     "data": {
      "text/plain": [
       "RandomForestClassifier(bootstrap=True, class_weight=None, criterion='gini',\n",
       "                       max_depth=None, max_features='auto', max_leaf_nodes=None,\n",
       "                       min_impurity_decrease=0.0, min_impurity_split=None,\n",
       "                       min_samples_leaf=1, min_samples_split=2,\n",
       "                       min_weight_fraction_leaf=0.0, n_estimators=100,\n",
       "                       n_jobs=None, oob_score=False, random_state=None,\n",
       "                       verbose=0, warm_start=False)"
      ]
     },
     "execution_count": 75,
     "metadata": {},
     "output_type": "execute_result"
    }
   ],
   "source": [
    "model.fit(fm_train, tv_train)"
   ]
  },
  {
   "cell_type": "code",
   "execution_count": 76,
   "metadata": {},
   "outputs": [
    {
     "data": {
      "text/plain": [
       "array([[294,   0],\n",
       "       [  0, 161]], dtype=int64)"
      ]
     },
     "execution_count": 76,
     "metadata": {},
     "output_type": "execute_result"
    }
   ],
   "source": [
    "confusion_matrix(y_true=tv_train, y_pred=model.predict(fm_train))"
   ]
  },
  {
   "cell_type": "code",
   "execution_count": 77,
   "metadata": {},
   "outputs": [
    {
     "data": {
      "text/plain": [
       "array([[63,  0],\n",
       "       [ 4, 47]], dtype=int64)"
      ]
     },
     "execution_count": 77,
     "metadata": {},
     "output_type": "execute_result"
    }
   ],
   "source": [
    "confusion_matrix(y_true=tv_test, y_pred=model.predict(fm_test))"
   ]
  },
  {
   "cell_type": "code",
   "execution_count": 79,
   "metadata": {},
   "outputs": [
    {
     "data": {
      "text/plain": [
       "array([[0.91, 0.09],\n",
       "       [0.17, 0.83],\n",
       "       [0.57, 0.43],\n",
       "       [0.9 , 0.1 ],\n",
       "       [0.78, 0.22],\n",
       "       [0.99, 0.01],\n",
       "       [0.97, 0.03],\n",
       "       [1.  , 0.  ],\n",
       "       [0.72, 0.28],\n",
       "       [0.99, 0.01],\n",
       "       [0.  , 1.  ],\n",
       "       [1.  , 0.  ],\n",
       "       [0.98, 0.02],\n",
       "       [0.  , 1.  ],\n",
       "       [0.8 , 0.2 ],\n",
       "       [0.99, 0.01],\n",
       "       [0.04, 0.96],\n",
       "       [0.94, 0.06],\n",
       "       [1.  , 0.  ],\n",
       "       [0.  , 1.  ],\n",
       "       [1.  , 0.  ],\n",
       "       [0.  , 1.  ],\n",
       "       [0.97, 0.03],\n",
       "       [0.93, 0.07],\n",
       "       [1.  , 0.  ],\n",
       "       [0.  , 1.  ],\n",
       "       [0.97, 0.03],\n",
       "       [0.87, 0.13],\n",
       "       [0.91, 0.09],\n",
       "       [0.08, 0.92],\n",
       "       [0.  , 1.  ],\n",
       "       [0.  , 1.  ],\n",
       "       [0.99, 0.01],\n",
       "       [0.  , 1.  ],\n",
       "       [0.  , 1.  ],\n",
       "       [0.04, 0.96],\n",
       "       [1.  , 0.  ],\n",
       "       [0.98, 0.02],\n",
       "       [1.  , 0.  ],\n",
       "       [1.  , 0.  ],\n",
       "       [1.  , 0.  ],\n",
       "       [0.99, 0.01],\n",
       "       [0.38, 0.62],\n",
       "       [0.17, 0.83],\n",
       "       [1.  , 0.  ],\n",
       "       [0.01, 0.99],\n",
       "       [0.16, 0.84],\n",
       "       [0.41, 0.59],\n",
       "       [0.99, 0.01],\n",
       "       [0.99, 0.01],\n",
       "       [0.96, 0.04],\n",
       "       [0.08, 0.92],\n",
       "       [0.  , 1.  ],\n",
       "       [0.01, 0.99],\n",
       "       [0.05, 0.95],\n",
       "       [0.1 , 0.9 ],\n",
       "       [1.  , 0.  ],\n",
       "       [0.98, 0.02],\n",
       "       [0.  , 1.  ],\n",
       "       [1.  , 0.  ],\n",
       "       [1.  , 0.  ],\n",
       "       [0.79, 0.21],\n",
       "       [1.  , 0.  ],\n",
       "       [0.  , 1.  ],\n",
       "       [1.  , 0.  ],\n",
       "       [0.99, 0.01],\n",
       "       [0.  , 1.  ],\n",
       "       [1.  , 0.  ],\n",
       "       [0.07, 0.93],\n",
       "       [1.  , 0.  ],\n",
       "       [1.  , 0.  ],\n",
       "       [0.33, 0.67],\n",
       "       [0.83, 0.17],\n",
       "       [0.05, 0.95],\n",
       "       [1.  , 0.  ],\n",
       "       [1.  , 0.  ],\n",
       "       [0.07, 0.93],\n",
       "       [0.  , 1.  ],\n",
       "       [0.76, 0.24],\n",
       "       [0.61, 0.39],\n",
       "       [0.05, 0.95],\n",
       "       [0.92, 0.08],\n",
       "       [0.99, 0.01],\n",
       "       [1.  , 0.  ],\n",
       "       [0.  , 1.  ],\n",
       "       [0.93, 0.07],\n",
       "       [0.95, 0.05],\n",
       "       [0.01, 0.99],\n",
       "       [0.  , 1.  ],\n",
       "       [0.99, 0.01],\n",
       "       [0.97, 0.03],\n",
       "       [1.  , 0.  ],\n",
       "       [0.94, 0.06],\n",
       "       [0.99, 0.01],\n",
       "       [1.  , 0.  ],\n",
       "       [0.29, 0.71],\n",
       "       [0.01, 0.99],\n",
       "       [0.  , 1.  ],\n",
       "       [0.93, 0.07],\n",
       "       [0.  , 1.  ],\n",
       "       [0.  , 1.  ],\n",
       "       [0.99, 0.01],\n",
       "       [0.  , 1.  ],\n",
       "       [1.  , 0.  ],\n",
       "       [0.01, 0.99],\n",
       "       [0.92, 0.08],\n",
       "       [0.01, 0.99],\n",
       "       [0.28, 0.72],\n",
       "       [0.95, 0.05],\n",
       "       [0.99, 0.01],\n",
       "       [1.  , 0.  ],\n",
       "       [0.48, 0.52],\n",
       "       [0.12, 0.88],\n",
       "       [0.01, 0.99]])"
      ]
     },
     "execution_count": 79,
     "metadata": {},
     "output_type": "execute_result"
    }
   ],
   "source": [
    "model.predict_proba(fm_test)"
   ]
  },
  {
   "cell_type": "code",
   "execution_count": 80,
   "metadata": {},
   "outputs": [],
   "source": [
    "from sklearn.metrics import accuracy_score"
   ]
  },
  {
   "cell_type": "code",
   "execution_count": 82,
   "metadata": {},
   "outputs": [
    {
     "data": {
      "text/plain": [
       "87.71929824561403"
      ]
     },
     "execution_count": 82,
     "metadata": {},
     "output_type": "execute_result"
    }
   ],
   "source": [
    "accuracy_score(tv_test,preds)*100"
   ]
  },
  {
   "cell_type": "code",
   "execution_count": null,
   "metadata": {},
   "outputs": [],
   "source": []
  }
 ],
 "metadata": {
  "kernelspec": {
   "display_name": "Python 3",
   "language": "python",
   "name": "python3"
  },
  "language_info": {
   "codemirror_mode": {
    "name": "ipython",
    "version": 3
   },
   "file_extension": ".py",
   "mimetype": "text/x-python",
   "name": "python",
   "nbconvert_exporter": "python",
   "pygments_lexer": "ipython3",
   "version": "3.7.4"
  }
 },
 "nbformat": 4,
 "nbformat_minor": 2
}
